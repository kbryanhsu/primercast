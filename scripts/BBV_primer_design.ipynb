{
 "cells": [
  {
   "cell_type": "markdown",
   "metadata": {},
   "source": [
    "# Setting"
   ]
  },
  {
   "cell_type": "code",
   "execution_count": null,
   "metadata": {},
   "outputs": [],
   "source": [
    "from __init__ import *\n",
    "from primer_modules import *\n",
    "from ml_modules import *\n",
    "\n",
    "import os\n",
    "import ast\n",
    "import numpy as np\n",
    "import pandas as pd\n",
    "import time\n",
    "import bisect\n",
    "from multiprocessing import Pool, cpu_count\n",
    "from tqdm.auto import tqdm\n",
    "from collections import defaultdict, Counter\n",
    "from Bio import SeqIO, Seq, Entrez\n",
    "from Levenshtein import distance"
   ]
  },
  {
   "cell_type": "code",
   "execution_count": null,
   "metadata": {},
   "outputs": [],
   "source": [
    "import joblib\n",
    "\n",
    "CLASSIFIER = '/home/jupyter/ADAPT_PCR_share/safe/resources/ml/0721_LSTM_Classifier.pth'\n",
    "REGRESSOR = '/home/jupyter/ADAPT_PCR_share/safe/resources/ml/0725_combined_model.pth'\n",
    "SCALER = '/home/jupyter/ADAPT_PCR_share/safe/resources/ml/0728_scaler.joblib'\n",
    "FEATS = ['f_len','f_Tm','f_GC','f_indel','f_mm','r_len','r_Tm','r_GC','r_indel','r_mm','prod_len','prod_Tm']\n",
    "\n",
    "scaler = joblib.load(SCALER)\n",
    "classifier = torch.load(CLASSIFIER, weights_only=False)\n",
    "regressor = torch.load(REGRESSOR, weights_only=False)\n",
    "classifier.eval()\n",
    "regressor.eval()"
   ]
  },
  {
   "cell_type": "markdown",
   "metadata": {},
   "source": [
    "# BBP"
   ]
  },
  {
   "cell_type": "code",
   "execution_count": null,
   "metadata": {},
   "outputs": [],
   "source": [
    "SEQPATH = '/home/jupyter/ADAPT_PCR_share/safe/resources/Seqs_used_for_design_from_Elyse/'\n",
    "consensus_header = 25"
   ]
  },
  {
   "cell_type": "code",
   "execution_count": null,
   "metadata": {},
   "outputs": [],
   "source": [
    "priexcel = pd.ExcelFile('%s/BPPv2_dPCR_Sequences.xlsx' % SEQPATH)\n",
    "pritbl = priexcel.parse('Primers', index_col=0)\n",
    "pritbl.head(1)"
   ]
  },
  {
   "cell_type": "code",
   "execution_count": null,
   "metadata": {},
   "outputs": [],
   "source": [
    "conexcel = pd.ExcelFile('%s/BPPv2_ENS_Current.xlsx' % SEQPATH)\n",
    "contbl = conexcel.parse('gBlocks').drop([0,13]).iloc[:26].set_index('Sequence Name')\n",
    "contbl.head(1)"
   ]
  },
  {
   "cell_type": "code",
   "execution_count": null,
   "metadata": {},
   "outputs": [],
   "source": [
    "from itertools import product\n",
    "\n",
    "# IUPAC degenerate base symbol dictionary\n",
    "IUPAC_CODES = {\n",
    "    \"A\": [\"A\"],\n",
    "    \"C\": [\"C\"],\n",
    "    \"G\": [\"G\"],\n",
    "    \"T\": [\"T\"],\n",
    "    \"R\": [\"A\", \"G\"],\n",
    "    \"Y\": [\"C\", \"T\"],\n",
    "    \"S\": [\"G\", \"C\"],\n",
    "    \"W\": [\"A\", \"T\"],\n",
    "    \"K\": [\"G\", \"T\"],\n",
    "    \"M\": [\"A\", \"C\"],\n",
    "    \"B\": [\"C\", \"G\", \"T\"],\n",
    "    \"D\": [\"A\", \"G\", \"T\"],\n",
    "    \"H\": [\"A\", \"C\", \"T\"],\n",
    "    \"V\": [\"A\", \"C\", \"G\"],\n",
    "    \"N\": [\"A\", \"C\", \"G\", \"T\"],\n",
    "}\n",
    "\n",
    "def expand_degenerate_sequence(seq):\n",
    "    base_lists = []\n",
    "    for base in seq.upper():\n",
    "        if base not in IUPAC_CODES:\n",
    "            raise ValueError(f\"Unknown base symbol: {base}\")\n",
    "        base_lists.append(IUPAC_CODES[base])\n",
    "    \n",
    "    all_combinations = product(*base_lists)\n",
    "    return [\"\".join(p) for p in all_combinations]\n",
    "\n",
    "example_seq = \"ATGS\"\n",
    "expanded = expand_degenerate_sequence(example_seq)\n",
    "print(expanded)\n",
    "\n",
    "def get_fasta_seqs(fasta):\n",
    "    return { s.id:str(s.seq) for s in SeqIO.parse(fasta, 'fasta') }\n",
    "\n",
    "def measure_dist(seq, ref, dcut=15):\n",
    "    if len(ref) < len(seq):\n",
    "        return (-1, 999) \n",
    "    if seq in ref:\n",
    "        return (ref.find(seq), 0)\n",
    "    for i in range(len(ref)-len(seq)):\n",
    "        if distance(seq, ref[i:i+len(seq)]) <= dcut:\n",
    "            return (i, distance(seq, ref[i:i+len(seq)]))\n",
    "    return (-1, 999)\n",
    "\n",
    "def get_min_dist(seq, ref):\n",
    "    if len(ref) < len(seq):\n",
    "        return (-1, 999) \n",
    "    if seq in ref:\n",
    "        return 0\n",
    "    return min([distance(seq, ref[i:i+len(seq)]) for i in range(len(ref)-len(seq))])"
   ]
  },
  {
   "cell_type": "markdown",
   "metadata": {},
   "source": [
    "## Assort target seqs"
   ]
  },
  {
   "cell_type": "markdown",
   "metadata": {},
   "source": [
    "### CCHFV"
   ]
  },
  {
   "cell_type": "code",
   "execution_count": null,
   "metadata": {},
   "outputs": [],
   "source": [
    "virus = 'CCHFV'\n",
    "fseqs = expand_degenerate_sequence(pritbl.loc[f'{virus}_v2_F','Sequence'])\n",
    "rseqs = expand_degenerate_sequence(pritbl.loc[f'{virus}_v2_R','Sequence'])\n",
    "tseq = contbl.loc[f'{virus}_v2_gblock_1','Sequence'][consensus_header:]\n",
    "print(f'For: {fseqs}\\nRev: {rseqs}\\nTarget: {tseq}')\n",
    "for fseq in fseqs:\n",
    "    for rseq in rseqs:\n",
    "        print('For, Rev in Target: %i, %i' % (fseq in tseq, reverse_complement_dna(rseq) in tseq))"
   ]
  },
  {
   "cell_type": "code",
   "execution_count": null,
   "metadata": {},
   "outputs": [],
   "source": [
    "tarfs = [ f'{SEQPATH}/{virus}_all_2022.fasta', f'{SEQPATH}/{virus}_L_all.fasta' ]\n",
    "fig, axes = plt.subplots(1, len(tarfs), figsize=(2*len(tarfs), 2), sharey=True)\n",
    "\n",
    "for tarf, ax in zip(tarfs, axes):\n",
    "    tarseqs = get_fasta_seqs(tarf)\n",
    "    tlens = [ len(seq) for seq in tarseqs.values() ]\n",
    "    ax.hist(tlens)\n",
    "    ax.set_title(tarf.split('/')[-1].split('.')[0],fontsize=9)"
   ]
  },
  {
   "cell_type": "code",
   "execution_count": null,
   "metadata": {},
   "outputs": [],
   "source": [
    "tarseqs = get_fasta_seqs(tarfs[0])\n",
    "inccon = [seq for seq in tarseqs.values() if measure_dist(tseq, seq)[1]<999]\n",
    "print('# all variants: %s' % len(tarseqs))\n",
    "print('# seq including the consensus: %s' % len(inccon))"
   ]
  },
  {
   "cell_type": "code",
   "execution_count": null,
   "metadata": {},
   "outputs": [],
   "source": [
    "select = tarfs[0]\n",
    "!cp $select $ASSORTPATH"
   ]
  },
  {
   "cell_type": "markdown",
   "metadata": {},
   "source": [
    "### YFV"
   ]
  },
  {
   "cell_type": "code",
   "execution_count": null,
   "metadata": {},
   "outputs": [],
   "source": [
    "virus = 'YFV'\n",
    "consensus_header = 25\n",
    "fseqs = expand_degenerate_sequence(pritbl.loc[f'{virus}_v2_F','Sequence'])\n",
    "rseqs = expand_degenerate_sequence(pritbl.loc[f'{virus}_v2_R','Sequence'])\n",
    "tseq = contbl.loc[f'{virus}_v2_gblock_1','Sequence'][consensus_header:]\n",
    "print(f'For: {fseqs}\\nRev: {rseqs}\\nTarget: {tseq}')\n",
    "for fseq in fseqs:\n",
    "    for rseq in rseqs:\n",
    "        print('For, Rev in Target: %i, %i' % (fseq in tseq, reverse_complement_dna(rseq) in tseq))"
   ]
  },
  {
   "cell_type": "code",
   "execution_count": null,
   "metadata": {},
   "outputs": [],
   "source": [
    "tarfs = [ f'{SEQPATH}/{virus}_all_2022.fasta', f'{SEQPATH}/{virus}_Africa_2015.fasta' ]\n",
    "fig, axes = plt.subplots(1, len(tarfs), figsize=(2*len(tarfs), 2), sharey=True)\n",
    "\n",
    "for tarf, ax in zip(tarfs, axes):\n",
    "    tarseqs = get_fasta_seqs(tarf)\n",
    "    tlens = [ len(seq) for seq in tarseqs.values() ]\n",
    "    ax.hist(tlens)\n",
    "    ax.set_title(tarf.split('/')[-1].split('.')[0],fontsize=9)"
   ]
  },
  {
   "cell_type": "code",
   "execution_count": null,
   "metadata": {},
   "outputs": [],
   "source": [
    "tarseqs = get_fasta_seqs(tarfs[0])\n",
    "inccon = [seq for seq in tarseqs.values() if measure_dist(tseq, seq)[1]<999]\n",
    "print('# all variants: %s' % len(tarseqs))\n",
    "print('# seq including the consensus: %s' % len(inccon))"
   ]
  },
  {
   "cell_type": "code",
   "execution_count": null,
   "metadata": {},
   "outputs": [],
   "source": [
    "select = tarfs[0]\n",
    "!cp $select $ASSORTPATH"
   ]
  },
  {
   "cell_type": "markdown",
   "metadata": {},
   "source": [
    "### EBOV"
   ]
  },
  {
   "cell_type": "code",
   "execution_count": null,
   "metadata": {},
   "outputs": [],
   "source": [
    "virus = 'EBOVS'\n",
    "consensus_header = 25\n",
    "fseqs = expand_degenerate_sequence(pritbl.loc[f'{virus}_v2_F','Sequence'])\n",
    "rseqs = expand_degenerate_sequence(pritbl.loc[f'{virus}_v2_R','Sequence'])\n",
    "tseq = contbl.loc[f'{virus}_v2_gblock_1','Sequence'][consensus_header:]\n",
    "print(f'For: {fseqs}\\nRev: {rseqs}\\nTarget: {tseq}')\n",
    "for fseq in fseqs:\n",
    "    for rseq in rseqs:\n",
    "        print('For, Rev in Target: %i, %i' % (fseq in tseq, reverse_complement_dna(rseq) in tseq))"
   ]
  },
  {
   "cell_type": "code",
   "execution_count": null,
   "metadata": {},
   "outputs": [],
   "source": [
    "tarfs = [ f'{SEQPATH}/{virus}_all.fasta', f'{SEQPATH}/{virus}_all.fasta'  ]\n",
    "fig, axes = plt.subplots(1, len(tarfs), figsize=(2*len(tarfs), 2), sharey=True)\n",
    "\n",
    "for tarf, ax in zip(tarfs, axes):\n",
    "    tarseqs = get_fasta_seqs(tarf)\n",
    "    tlens = [ len(seq) for seq in tarseqs.values() ]\n",
    "    ax.hist(tlens)\n",
    "    ax.set_title(tarf.split('/')[-1].split('.')[0],fontsize=9)"
   ]
  },
  {
   "cell_type": "code",
   "execution_count": null,
   "metadata": {},
   "outputs": [],
   "source": [
    "tarseqs = get_fasta_seqs(tarfs[0])\n",
    "inccon = [seq for seq in tarseqs.values() if measure_dist(tseq, seq)[1]<999]\n",
    "print('# all variants: %s' % len(tarseqs))\n",
    "print('# seq including the consensus: %s' % len(inccon))"
   ]
  },
  {
   "cell_type": "code",
   "execution_count": null,
   "metadata": {},
   "outputs": [],
   "source": [
    "virus = 'EBOVZ'\n",
    "consensus_header = 25\n",
    "fseqs = expand_degenerate_sequence(pritbl.loc[f'{virus}_v2_F','Sequence'])\n",
    "rseqs = expand_degenerate_sequence(pritbl.loc[f'{virus}_v2_R','Sequence'])\n",
    "tseq = contbl.loc[f'{virus}_v2_gblock_1','Sequence'][consensus_header:]\n",
    "print(f'For: {fseqs}\\nRev: {rseqs}\\nTarget: {tseq}')\n",
    "for fseq in fseqs:\n",
    "    for rseq in rseqs:\n",
    "        print('For, Rev in Target: %i, %i' % (fseq in tseq, reverse_complement_dna(rseq) in tseq))"
   ]
  },
  {
   "cell_type": "code",
   "execution_count": null,
   "metadata": {},
   "outputs": [],
   "source": [
    "tarfs = [ f'{SEQPATH}/{virus}_from2015.fasta', f'{SEQPATH}/{virus}_from2022.fasta'  ]\n",
    "fig, axes = plt.subplots(1, len(tarfs), figsize=(2*len(tarfs), 2), sharey=True)\n",
    "\n",
    "for tarf, ax in zip(tarfs, axes):\n",
    "    tarseqs = get_fasta_seqs(tarf)\n",
    "    tlens = [ len(seq) for seq in tarseqs.values() ]\n",
    "    ax.hist(tlens)\n",
    "    ax.set_title('%s (n=%i)' % (tarf.split('/')[-1].split('.')[0], len(tlens)), fontsize=9)"
   ]
  },
  {
   "cell_type": "code",
   "execution_count": null,
   "metadata": {},
   "outputs": [],
   "source": [
    "tarseqs = get_fasta_seqs(tarfs[1])\n",
    "for seq in tarseqs.values():\n",
    "    if measure_dist(tseq, seq)[1]<999:\n",
    "        print('Seq includes the consensus')\n",
    "        break\n",
    "# inccon = [seq for seq in tarseqs.values() ]\n",
    "# print('# all variants: %s' % len(tarseqs))\n",
    "# print('# seq including the consensus: %s' % len(inccon))"
   ]
  },
  {
   "cell_type": "code",
   "execution_count": null,
   "metadata": {},
   "outputs": [],
   "source": [
    "select = tarfs[1]\n",
    "!cp $select $ASSORTPATH"
   ]
  },
  {
   "cell_type": "markdown",
   "metadata": {},
   "source": [
    "### WNV"
   ]
  },
  {
   "cell_type": "code",
   "execution_count": null,
   "metadata": {},
   "outputs": [],
   "source": [
    "virus = 'WNV'\n",
    "consensus_header = 25\n",
    "fseqs = expand_degenerate_sequence(pritbl.loc[f'{virus}_v2_F','Sequence'])\n",
    "rseqs = expand_degenerate_sequence(pritbl.loc[f'{virus}_v2_R','Sequence'])\n",
    "tseq = contbl.loc[f'{virus}_v2_gblock_1','Sequence'][consensus_header:]\n",
    "print(f'For: {fseqs}\\nRev: {rseqs}\\nTarget: {tseq}')\n",
    "for fseq in fseqs:\n",
    "    for rseq in rseqs:\n",
    "        print('For, Rev in Target: %i, %i' % (fseq in tseq, reverse_complement_dna(rseq) in tseq))"
   ]
  },
  {
   "cell_type": "code",
   "execution_count": null,
   "metadata": {},
   "outputs": [],
   "source": [
    "tarfs = [ f'{SEQPATH}/{virus}_2022.fasta', f'{SEQPATH}/{virus}_Africa_2015.fasta'  ]\n",
    "fig, axes = plt.subplots(1, len(tarfs), figsize=(2*len(tarfs), 2), sharey=True)\n",
    "\n",
    "for tarf, ax in zip(tarfs, axes):\n",
    "    tarseqs = get_fasta_seqs(tarf)\n",
    "    tlens = [ len(seq) for seq in tarseqs.values() ]\n",
    "    ax.hist(tlens)\n",
    "    ax.set_title('%s (n=%i)' % (tarf.split('/')[-1].split('.')[0], len(tlens)), fontsize=9)"
   ]
  },
  {
   "cell_type": "code",
   "execution_count": null,
   "metadata": {},
   "outputs": [],
   "source": [
    "tarseqs = get_fasta_seqs(tarfs[0])\n",
    "for seq in tarseqs.values():\n",
    "    if measure_dist(tseq, seq)[1]<999:\n",
    "        print('Seq includes the consensus')\n",
    "        break"
   ]
  },
  {
   "cell_type": "code",
   "execution_count": null,
   "metadata": {},
   "outputs": [],
   "source": [
    "select = tarfs[0]\n",
    "!cp $select $ASSORTPATH"
   ]
  },
  {
   "cell_type": "markdown",
   "metadata": {},
   "source": [
    "### HIV2"
   ]
  },
  {
   "cell_type": "code",
   "execution_count": null,
   "metadata": {},
   "outputs": [],
   "source": [
    "virus = 'HIV2'\n",
    "consensus_header = 25\n",
    "fseqs = expand_degenerate_sequence(pritbl.loc[f'{virus}_v2_F','Sequence'])\n",
    "rseqs = expand_degenerate_sequence(pritbl.loc[f'{virus}_v2_R','Sequence'])\n",
    "tseq = contbl.loc[f'{virus}_v2_gblock_1','Sequence'][consensus_header:]\n",
    "print(f'For: {fseqs}\\nRev: {rseqs}\\nTarget: {tseq}')\n",
    "for fseq in fseqs:\n",
    "    for rseq in rseqs:\n",
    "        print('For, Rev in Target: %i, %i' % (fseq in tseq, reverse_complement_dna(rseq) in tseq))"
   ]
  },
  {
   "cell_type": "code",
   "execution_count": null,
   "metadata": {},
   "outputs": [],
   "source": [
    "tarfs = [ f'{SEQPATH}/{virus}_all.fasta', f'{SEQPATH}/{virus}_all.fasta'  ]\n",
    "fig, axes = plt.subplots(1, len(tarfs), figsize=(2*len(tarfs), 2), sharey=True)\n",
    "\n",
    "for tarf, ax in zip(tarfs, axes):\n",
    "    tarseqs = get_fasta_seqs(tarf)\n",
    "    tlens = [ len(seq) for seq in tarseqs.values() ]\n",
    "    ax.hist(tlens)\n",
    "    ax.set_title('%s (n=%i)' % (tarf.split('/')[-1].split('.')[0], len(tlens)), fontsize=9)"
   ]
  },
  {
   "cell_type": "code",
   "execution_count": null,
   "metadata": {},
   "outputs": [],
   "source": [
    "tarseqs = get_fasta_seqs(tarfs[0])\n",
    "for seq in tarseqs.values():\n",
    "    if measure_dist(tseq, seq)[1]<999:\n",
    "        print('Seq includes the consensus')\n",
    "        break"
   ]
  },
  {
   "cell_type": "code",
   "execution_count": null,
   "metadata": {},
   "outputs": [],
   "source": [
    "select = tarfs[0]\n",
    "!cp $select $ASSORTPATH"
   ]
  },
  {
   "cell_type": "markdown",
   "metadata": {},
   "source": [
    "### CHIK"
   ]
  },
  {
   "cell_type": "code",
   "execution_count": null,
   "metadata": {},
   "outputs": [],
   "source": [
    "virus = 'CHIK'\n",
    "consensus_header = 25\n",
    "fseqs = expand_degenerate_sequence(pritbl.loc[f'{virus}_v2_F','Sequence'])\n",
    "rseqs = expand_degenerate_sequence(pritbl.loc[f'{virus}_v2_R','Sequence'])\n",
    "tseq = contbl.loc[f'{virus}_v2_gblock_1','Sequence'][consensus_header:]\n",
    "print(f'For: {fseqs}\\nRev: {rseqs}\\nTarget: {tseq}')\n",
    "for fseq in fseqs:\n",
    "    for rseq in rseqs:\n",
    "        print('For, Rev in Target: %i, %i' % (fseq in tseq, reverse_complement_dna(rseq) in tseq))"
   ]
  },
  {
   "cell_type": "code",
   "execution_count": null,
   "metadata": {},
   "outputs": [],
   "source": [
    "tarfs = [ f'{SEQPATH}/{virus}_all_2022.fasta', f'{SEQPATH}/{virus}_Africa_2015.fasta'  ]\n",
    "fig, axes = plt.subplots(1, len(tarfs), figsize=(2*len(tarfs), 2), sharey=True)\n",
    "\n",
    "for tarf, ax in zip(tarfs, axes):\n",
    "    tarseqs = get_fasta_seqs(tarf)\n",
    "    tlens = [ len(seq) for seq in tarseqs.values() ]\n",
    "    ax.hist(tlens)\n",
    "    ax.set_title('%s (n=%i)' % (tarf.split('/')[-1].split('.')[0], len(tlens)), fontsize=9)"
   ]
  },
  {
   "cell_type": "code",
   "execution_count": null,
   "metadata": {},
   "outputs": [],
   "source": [
    "tarseqs = get_fasta_seqs(tarfs[0])\n",
    "for seq in tarseqs.values():\n",
    "    if measure_dist(tseq, seq)[1]<999:\n",
    "        print('Seq includes the consensus')\n",
    "        break"
   ]
  },
  {
   "cell_type": "code",
   "execution_count": null,
   "metadata": {},
   "outputs": [],
   "source": [
    "select = tarfs[0]\n",
    "!cp $select $ASSORTPATH"
   ]
  },
  {
   "cell_type": "markdown",
   "metadata": {},
   "source": [
    "### MBV"
   ]
  },
  {
   "cell_type": "code",
   "execution_count": null,
   "metadata": {},
   "outputs": [],
   "source": [
    "virus = 'MBV'\n",
    "consensus_header = 25\n",
    "fseqs = expand_degenerate_sequence(pritbl.loc[f'{virus}_v2_F','Sequence'])\n",
    "rseqs = expand_degenerate_sequence(pritbl.loc[f'{virus}_v2_R','Sequence'])\n",
    "tseq = contbl.loc[f'{virus}_v2_gblock_1','Sequence'][consensus_header:]\n",
    "print(f'For: {fseqs}\\nRev: {rseqs}\\nTarget: {tseq}')\n",
    "for fseq in fseqs:\n",
    "    for rseq in rseqs:\n",
    "        print('For, Rev in Target: %i, %i' % (fseq in tseq, reverse_complement_dna(rseq) in tseq))"
   ]
  },
  {
   "cell_type": "code",
   "execution_count": null,
   "metadata": {},
   "outputs": [],
   "source": [
    "tarfs = [ f'{SEQPATH}/{virus}_from2022.fasta', f'{SEQPATH}/{virus}_from2015.fasta'  ]\n",
    "fig, axes = plt.subplots(1, len(tarfs), figsize=(2*len(tarfs), 2), sharey=True)\n",
    "\n",
    "for tarf, ax in zip(tarfs, axes):\n",
    "    tarseqs = get_fasta_seqs(tarf)\n",
    "    tlens = [ len(seq) for seq in tarseqs.values() ]\n",
    "    ax.hist(tlens)\n",
    "    ax.set_title('%s (n=%i)' % (tarf.split('/')[-1].split('.')[0], len(tlens)), fontsize=9)"
   ]
  },
  {
   "cell_type": "code",
   "execution_count": null,
   "metadata": {},
   "outputs": [],
   "source": [
    "tarseqs = get_fasta_seqs(tarfs[0])\n",
    "for seq in tarseqs.values():\n",
    "    if measure_dist(tseq, seq)[1]<999:\n",
    "        print('Seq includes the consensus')\n",
    "        break"
   ]
  },
  {
   "cell_type": "code",
   "execution_count": null,
   "metadata": {},
   "outputs": [],
   "source": [
    "select = tarfs[0]\n",
    "!cp $select $ASSORTPATH"
   ]
  },
  {
   "cell_type": "markdown",
   "metadata": {},
   "source": [
    "### HBV"
   ]
  },
  {
   "cell_type": "code",
   "execution_count": null,
   "metadata": {},
   "outputs": [],
   "source": [
    "virus = 'HBV'\n",
    "consensus_header = 25\n",
    "fseqs = expand_degenerate_sequence(pritbl.loc[f'{virus}_v2_F','Sequence'])\n",
    "rseqs = expand_degenerate_sequence(pritbl.loc[f'{virus}_v2_R','Sequence'])\n",
    "tseq = contbl.loc[f'{virus}_v2_gblock_1','Sequence'][consensus_header:]\n",
    "print(f'For: {fseqs}\\nRev: {rseqs}\\nTarget: {tseq}')\n",
    "for fseq in fseqs:\n",
    "    for rseq in rseqs:\n",
    "        print('For, Rev in Target: %i, %i' % (fseq in tseq, reverse_complement_dna(rseq) in tseq))"
   ]
  },
  {
   "cell_type": "code",
   "execution_count": null,
   "metadata": {},
   "outputs": [],
   "source": [
    "tarfs = [ f'{SEQPATH}/{virus}_all_2022.fasta', f'{SEQPATH}/{virus}_Africa_2015.fasta'  ]\n",
    "fig, axes = plt.subplots(1, len(tarfs), figsize=(2*len(tarfs), 2), sharey=True)\n",
    "\n",
    "for tarf, ax in zip(tarfs, axes):\n",
    "    tarseqs = get_fasta_seqs(tarf)\n",
    "    tlens = [ len(seq) for seq in tarseqs.values() ]\n",
    "    ax.hist(tlens)\n",
    "    ax.set_title('%s (n=%i)' % (tarf.split('/')[-1].split('.')[0], len(tlens)), fontsize=9)"
   ]
  },
  {
   "cell_type": "code",
   "execution_count": null,
   "metadata": {},
   "outputs": [],
   "source": [
    "tarseqs = get_fasta_seqs(tarfs[0])\n",
    "for seq in tarseqs.values():\n",
    "    if measure_dist(tseq, seq)[1]<999:\n",
    "        print('Seq includes the consensus')\n",
    "        break"
   ]
  },
  {
   "cell_type": "code",
   "execution_count": null,
   "metadata": {},
   "outputs": [],
   "source": [
    "select = tarfs[0]\n",
    "!cp $select $ASSORTPATH"
   ]
  },
  {
   "cell_type": "markdown",
   "metadata": {},
   "source": [
    "### MMV"
   ]
  },
  {
   "cell_type": "code",
   "execution_count": null,
   "metadata": {},
   "outputs": [],
   "source": [
    "virus = 'MMV'\n",
    "consensus_header = 25\n",
    "fseqs = expand_degenerate_sequence(pritbl.loc[f'{virus}_v2_F','Sequence'])\n",
    "rseqs = expand_degenerate_sequence(pritbl.loc[f'{virus}_v2_R','Sequence'])\n",
    "tseq = contbl.loc[f'{virus}_v2_gblock_1','Sequence'][consensus_header:]\n",
    "print(f'For: {fseqs}\\nRev: {rseqs}\\nTarget: {tseq}')\n",
    "for fseq in fseqs:\n",
    "    for rseq in rseqs:\n",
    "        print('For, Rev in Target: %i, %i' % (fseq in tseq, reverse_complement_dna(rseq) in tseq))"
   ]
  },
  {
   "cell_type": "code",
   "execution_count": null,
   "metadata": {},
   "outputs": [],
   "source": [
    "tarfs = [ f'{SEQPATH}/{virus}_all_2022.fasta', f'{SEQPATH}/{virus}_all_2022.fasta'  ]\n",
    "fig, axes = plt.subplots(1, len(tarfs), figsize=(2*len(tarfs), 2), sharey=True)\n",
    "\n",
    "for tarf, ax in zip(tarfs, axes):\n",
    "    tarseqs = get_fasta_seqs(tarf)\n",
    "    tlens = [ len(seq) for seq in tarseqs.values() ]\n",
    "    ax.hist(tlens)\n",
    "    ax.set_title('%s (n=%i)' % (tarf.split('/')[-1].split('.')[0], len(tlens)), fontsize=9)"
   ]
  },
  {
   "cell_type": "code",
   "execution_count": null,
   "metadata": {},
   "outputs": [],
   "source": [
    "tarseqs = get_fasta_seqs(tarfs[0])\n",
    "for seq in tarseqs.values():\n",
    "    if measure_dist(tseq, seq)[1]<999:\n",
    "        print('Seq includes the consensus')\n",
    "        break"
   ]
  },
  {
   "cell_type": "code",
   "execution_count": null,
   "metadata": {},
   "outputs": [],
   "source": [
    "select = tarfs[0]\n",
    "!cp $select $ASSORTPATH"
   ]
  },
  {
   "cell_type": "markdown",
   "metadata": {},
   "source": [
    "### RBV"
   ]
  },
  {
   "cell_type": "code",
   "execution_count": null,
   "metadata": {},
   "outputs": [],
   "source": [
    "virus = 'RBV'\n",
    "consensus_header = 25\n",
    "fseqs = expand_degenerate_sequence(pritbl.loc[f'{virus}_v2_F','Sequence'])\n",
    "rseqs = expand_degenerate_sequence(pritbl.loc[f'{virus}_v2_R','Sequence'])\n",
    "tseq = contbl.loc[f'{virus}_v2_gblock_1','Sequence'][consensus_header:]\n",
    "print(f'For: {fseqs}\\nRev: {rseqs}\\nTarget: {tseq}')\n",
    "for fseq in fseqs:\n",
    "    for rseq in rseqs:\n",
    "        print('For, Rev in Target: %i, %i' % (fseq in tseq, reverse_complement_dna(rseq) in tseq))"
   ]
  },
  {
   "cell_type": "code",
   "execution_count": null,
   "metadata": {},
   "outputs": [],
   "source": [
    "tarfs = [ f'{SEQPATH}/{virus}_all_2022.fasta', f'{SEQPATH}/{virus}_Africa_2015.fasta'  ]\n",
    "fig, axes = plt.subplots(1, len(tarfs), figsize=(2*len(tarfs), 2), sharey=True)\n",
    "\n",
    "for tarf, ax in zip(tarfs, axes):\n",
    "    tarseqs = get_fasta_seqs(tarf)\n",
    "    tlens = [ len(seq) for seq in tarseqs.values() ]\n",
    "    ax.hist(tlens)\n",
    "    ax.set_title('%s (n=%i)' % (tarf.split('/')[-1].split('.')[0], len(tlens)), fontsize=9)"
   ]
  },
  {
   "cell_type": "code",
   "execution_count": null,
   "metadata": {},
   "outputs": [],
   "source": [
    "tarseqs = get_fasta_seqs(tarfs[0])\n",
    "for seq in tarseqs.values():\n",
    "    if measure_dist(tseq, seq)[1]<999:\n",
    "        print('Seq includes the consensus')\n",
    "        break"
   ]
  },
  {
   "cell_type": "code",
   "execution_count": null,
   "metadata": {},
   "outputs": [],
   "source": [
    "select = tarfs[0]\n",
    "!cp $select $ASSORTPATH"
   ]
  },
  {
   "cell_type": "markdown",
   "metadata": {},
   "source": [
    "### RVFV"
   ]
  },
  {
   "cell_type": "code",
   "execution_count": null,
   "metadata": {},
   "outputs": [],
   "source": [
    "virus = 'RVFV'\n",
    "consensus_header = 25\n",
    "fseqs = expand_degenerate_sequence(pritbl.loc[f'{virus}_v2_F','Sequence'])\n",
    "rseqs = expand_degenerate_sequence(pritbl.loc[f'{virus}_v2_R','Sequence'])\n",
    "tseq = contbl.loc[f'{virus}_v2_gblock_1','Sequence'][consensus_header:]\n",
    "print(f'For: {fseqs}\\nRev: {rseqs}\\nTarget: {tseq}')\n",
    "for fseq in fseqs:\n",
    "    for rseq in rseqs:\n",
    "        print('For, Rev in Target: %i, %i' % (fseq in tseq, reverse_complement_dna(rseq) in tseq))"
   ]
  },
  {
   "cell_type": "code",
   "execution_count": null,
   "metadata": {},
   "outputs": [],
   "source": [
    "tarfs = [ f'{SEQPATH}/{virus}_all_2022.fasta', f'{SEQPATH}/{virus}_Africa_2015.fasta'  ]\n",
    "fig, axes = plt.subplots(1, len(tarfs), figsize=(2*len(tarfs), 2), sharey=True)\n",
    "\n",
    "for tarf, ax in zip(tarfs, axes):\n",
    "    tarseqs = get_fasta_seqs(tarf)\n",
    "    tlens = [ len(seq) for seq in tarseqs.values() ]\n",
    "    ax.hist(tlens)\n",
    "    ax.set_title('%s (n=%i)' % (tarf.split('/')[-1].split('.')[0], len(tlens)), fontsize=9)"
   ]
  },
  {
   "cell_type": "code",
   "execution_count": null,
   "metadata": {},
   "outputs": [],
   "source": [
    "tarseqs = get_fasta_seqs(tarfs[0])\n",
    "for seq in tarseqs.values():\n",
    "    if measure_dist(tseq, seq)[1]<999:\n",
    "        print('Seq includes the consensus')\n",
    "        break"
   ]
  },
  {
   "cell_type": "code",
   "execution_count": null,
   "metadata": {},
   "outputs": [],
   "source": [
    "select = tarfs[0]\n",
    "!cp $select $ASSORTPATH"
   ]
  },
  {
   "cell_type": "markdown",
   "metadata": {},
   "source": [
    "### HIV1"
   ]
  },
  {
   "cell_type": "code",
   "execution_count": null,
   "metadata": {},
   "outputs": [],
   "source": [
    "virus = 'HIV1'\n",
    "consensus_header = 25\n",
    "fseqs = expand_degenerate_sequence(pritbl.loc[f'{virus}_v2_F','Sequence'])\n",
    "rseqs = expand_degenerate_sequence(pritbl.loc[f'{virus}_v2_R','Sequence'])\n",
    "tseq = contbl.loc[f'{virus}_v2_gblock_1','Sequence'][consensus_header:]\n",
    "print(f'For: {fseqs}\\nRev: {rseqs}\\nTarget: {tseq}')\n",
    "for fseq in fseqs:\n",
    "    for rseq in rseqs:\n",
    "        print('For, Rev in Target: %i, %i' % (fseq in tseq, reverse_complement_dna(rseq) in tseq))"
   ]
  },
  {
   "cell_type": "code",
   "execution_count": null,
   "metadata": {},
   "outputs": [],
   "source": [
    "tarfs = [ f'{SEQPATH}/{virus}_all_2022.fasta', f'{SEQPATH}/{virus}_Africa_2015.fasta'  ]\n",
    "fig, axes = plt.subplots(1, len(tarfs), figsize=(2*len(tarfs), 2), sharey=True)\n",
    "\n",
    "for tarf, ax in zip(tarfs, axes):\n",
    "    tarseqs = get_fasta_seqs(tarf)\n",
    "    tlens = [ len(seq) for seq in tarseqs.values() ]\n",
    "    ax.hist(tlens)\n",
    "    ax.set_title('%s (n=%i)' % (tarf.split('/')[-1].split('.')[0], len(tlens)), fontsize=9)"
   ]
  },
  {
   "cell_type": "code",
   "execution_count": null,
   "metadata": {},
   "outputs": [],
   "source": [
    "tarseqs = get_fasta_seqs(tarfs[0])\n",
    "for seq in tarseqs.values():\n",
    "    if measure_dist(tseq, seq)[1]<999:\n",
    "        print('Seq includes the consensus')\n",
    "        break"
   ]
  },
  {
   "cell_type": "code",
   "execution_count": null,
   "metadata": {},
   "outputs": [],
   "source": [
    "select = tarfs[0]\n",
    "!cp $select $ASSORTPATH"
   ]
  },
  {
   "cell_type": "markdown",
   "metadata": {},
   "source": [
    "### Zika"
   ]
  },
  {
   "cell_type": "code",
   "execution_count": null,
   "metadata": {},
   "outputs": [],
   "source": [
    "virus = 'Zika'\n",
    "consensus_header = 25\n",
    "fseqs = expand_degenerate_sequence(pritbl.loc[f'{virus}_v2_F','Sequence'])\n",
    "rseqs = expand_degenerate_sequence(pritbl.loc[f'{virus}_v2_R','Sequence'])\n",
    "tseq = contbl.loc[f'{virus}_v2_gblock_1','Sequence'][consensus_header:]\n",
    "print(f'For: {fseqs}\\nRev: {rseqs}\\nTarget: {tseq}')\n",
    "for fseq in fseqs:\n",
    "    for rseq in rseqs:\n",
    "        print('For, Rev in Target: %i, %i' % (fseq in tseq, reverse_complement_dna(rseq) in tseq))"
   ]
  },
  {
   "cell_type": "code",
   "execution_count": null,
   "metadata": {},
   "outputs": [],
   "source": [
    "tarfs = [ f'{SEQPATH}/{virus.upper()}_all_2022.fasta', f'{SEQPATH}/{virus.upper()}_Africa_2015.fasta'  ]\n",
    "fig, axes = plt.subplots(1, len(tarfs), figsize=(2*len(tarfs), 2), sharey=True)\n",
    "\n",
    "for tarf, ax in zip(tarfs, axes):\n",
    "    tarseqs = get_fasta_seqs(tarf)\n",
    "    tlens = [ len(seq) for seq in tarseqs.values() ]\n",
    "    ax.hist(tlens)\n",
    "    ax.set_title('%s (n=%i)' % (tarf.split('/')[-1].split('.')[0], len(tlens)), fontsize=9)"
   ]
  },
  {
   "cell_type": "code",
   "execution_count": null,
   "metadata": {},
   "outputs": [],
   "source": [
    "tarseqs = get_fasta_seqs(tarfs[0])\n",
    "for seq in tarseqs.values():\n",
    "    if measure_dist(tseq, seq)[1]<999:\n",
    "        print('Seq includes the consensus')\n",
    "        break"
   ]
  },
  {
   "cell_type": "code",
   "execution_count": null,
   "metadata": {},
   "outputs": [],
   "source": [
    "select = tarfs[0]\n",
    "!cp $select $ASSORTPATH"
   ]
  },
  {
   "cell_type": "markdown",
   "metadata": {},
   "source": [
    "### DVT"
   ]
  },
  {
   "cell_type": "code",
   "execution_count": null,
   "metadata": {},
   "outputs": [],
   "source": [
    "virus = 'DVT'\n",
    "consensus_header = 25\n",
    "fseqs = expand_degenerate_sequence(pritbl.loc[f'{virus}_v2_F','Sequence'])\n",
    "rseqs = expand_degenerate_sequence(pritbl.loc[f'{virus}_v2_R1','Sequence'])\n",
    "tseq = contbl.loc[f'DengueT1_v2_gblock_1','Sequence'][consensus_header:]\n",
    "print(f'For: {fseqs}\\nRev: {rseqs}\\nTarget: {tseq}')\n",
    "for fseq in fseqs:\n",
    "    for rseq in rseqs:\n",
    "        print('For, Rev in Target: %i, %i' % (fseq in tseq, reverse_complement_dna(rseq) in tseq))"
   ]
  },
  {
   "cell_type": "code",
   "execution_count": null,
   "metadata": {},
   "outputs": [],
   "source": [
    "virus = 'DVT'\n",
    "consensus_header = 25\n",
    "fseqs = expand_degenerate_sequence(pritbl.loc[f'{virus}_v2_F','Sequence'])\n",
    "rseqs = expand_degenerate_sequence(pritbl.loc[f'{virus}_v2_R2','Sequence'])\n",
    "tseq = contbl.loc[f'DengueT2_v2_gblock_1','Sequence'][consensus_header:]\n",
    "print(f'For: {fseqs}\\nRev: {rseqs}\\nTarget: {tseq}')\n",
    "for fseq in fseqs:\n",
    "    for rseq in rseqs:\n",
    "        print('For, Rev in Target: %i, %i' % (fseq in tseq, reverse_complement_dna(rseq) in tseq))\n",
    "if fseq not in tseq:\n",
    "    print('For - Target dist: %i' % get_min_dist(fseq, tseq))\n",
    "if reverse_complement_dna(rseq) not in tseq:\n",
    "    print('Rev - Target dist: %i' % get_min_dist(reverse_complement_dna(rseq), tseq))"
   ]
  },
  {
   "cell_type": "code",
   "execution_count": null,
   "metadata": {},
   "outputs": [],
   "source": [
    "virus = 'DVT'\n",
    "consensus_header = 25\n",
    "fseqs = expand_degenerate_sequence(pritbl.loc[f'{virus}_v2_F','Sequence'])\n",
    "rseqs = expand_degenerate_sequence(pritbl.loc[f'{virus}_v2_R3','Sequence'])\n",
    "tseq = contbl.loc[f'DengueT3_v2_gblock_1','Sequence'][consensus_header:]\n",
    "print(f'For: {fseqs}\\nRev: {rseqs}\\nTarget: {tseq}')\n",
    "for fseq in fseqs:\n",
    "    for rseq in rseqs:\n",
    "        print('For, Rev in Target: %i, %i' % (fseq in tseq, reverse_complement_dna(rseq) in tseq))\n",
    "if fseq not in tseq:\n",
    "    print('For - Target dist: %i' % get_min_dist(fseq, tseq))\n",
    "if reverse_complement_dna(rseq) not in tseq:\n",
    "    print('Rev - Target dist: %i' % get_min_dist(reverse_complement_dna(rseq), tseq))"
   ]
  },
  {
   "cell_type": "code",
   "execution_count": null,
   "metadata": {},
   "outputs": [],
   "source": [
    "virus = 'DVT'\n",
    "consensus_header = 25\n",
    "fseqs = expand_degenerate_sequence(pritbl.loc[f'{virus}_v2_F','Sequence'])\n",
    "rseqs = expand_degenerate_sequence(pritbl.loc[f'{virus}_v2_R4','Sequence'])\n",
    "tseq = contbl.loc[f'DengueT4_v2_gblock_1','Sequence'][consensus_header:]\n",
    "print(f'For: {fseqs}\\nRev: {rseqs}\\nTarget: {tseq}')\n",
    "for fseq in fseqs:\n",
    "    for rseq in rseqs:\n",
    "        print('For, Rev in Target: %i, %i' % (fseq in tseq, reverse_complement_dna(rseq) in tseq))\n",
    "if fseq not in tseq:\n",
    "    print('For - Target dist: %i' % get_min_dist(fseq, tseq))\n",
    "if reverse_complement_dna(rseq) not in tseq:\n",
    "    print('Rev - Target dist: %i' % get_min_dist(reverse_complement_dna(rseq), tseq))"
   ]
  },
  {
   "cell_type": "code",
   "execution_count": null,
   "metadata": {},
   "outputs": [],
   "source": [
    "tarfs = [ f'{SEQPATH}/{virus}1_all_2022.fasta', f'{SEQPATH}/{virus}2_all_2022.fasta',\n",
    "          f'{SEQPATH}/{virus}3_all_2022.fasta', f'{SEQPATH}/{virus}4_all_2022.fasta']\n",
    "fig, axes = plt.subplots(1, len(tarfs), figsize=(2*len(tarfs), 2), sharey=True)\n",
    "\n",
    "for tarf, ax in zip(tarfs, axes):\n",
    "    tarseqs = get_fasta_seqs(tarf)\n",
    "    tlens = [ len(seq) for seq in tarseqs.values() ]\n",
    "    ax.hist(tlens)\n",
    "    ax.set_title('%s (n=%i)' % (tarf.split('/')[-1].split('.')[0], len(tlens)), fontsize=9)"
   ]
  },
  {
   "cell_type": "code",
   "execution_count": null,
   "metadata": {},
   "outputs": [],
   "source": [
    "for i in range(1,5):\n",
    "    tseq = contbl.loc[f'DengueT{i}_v2_gblock_1','Sequence'][consensus_header:]\n",
    "    tarseqs = get_fasta_seqs(tarfs[i-1])\n",
    "    for seq in tarseqs.values():\n",
    "        if measure_dist(tseq, seq)[1]<999:\n",
    "            print(f'Seq includes the consensus DVT{i}')\n",
    "            break"
   ]
  },
  {
   "cell_type": "code",
   "execution_count": null,
   "metadata": {},
   "outputs": [],
   "source": [
    "select = f'{SEQPATH}/DVT*_all_2022.fasta'\n",
    "#!cp $select $ASSORTPATH"
   ]
  },
  {
   "cell_type": "markdown",
   "metadata": {},
   "source": [
    "### HCV"
   ]
  },
  {
   "cell_type": "code",
   "execution_count": null,
   "metadata": {},
   "outputs": [],
   "source": [
    "virus = 'HCV'\n",
    "fseqs = expand_degenerate_sequence(pritbl.loc[f'{virus}_v2_F','Sequence'])\n",
    "rseqs = expand_degenerate_sequence(pritbl.loc[f'{virus}_v2_R1','Sequence'])\n",
    "tseq = contbl.loc[f'{virus}_v2_gblock_1','Sequence'][consensus_header:]\n",
    "print(f'For: {fseqs}\\nRev: {rseqs}\\nTarget: {tseq}')\n",
    "for fseq in fseqs:\n",
    "    for rseq in rseqs:\n",
    "        print('For, Rev in Target: %i, %i' % (fseq in tseq, reverse_complement_dna(rseq) in tseq))\n",
    "if fseq not in tseq:\n",
    "    print('For - Target dist: %i' % get_min_dist(fseq, tseq))\n",
    "if reverse_complement_dna(rseq) not in tseq:\n",
    "    print('Rev - Target dist: %i' % get_min_dist(reverse_complement_dna(rseq), tseq))"
   ]
  },
  {
   "cell_type": "code",
   "execution_count": null,
   "metadata": {},
   "outputs": [],
   "source": [
    "fseqs = expand_degenerate_sequence(pritbl.loc[f'{virus}_v2_F','Sequence'])\n",
    "rseqs = expand_degenerate_sequence(pritbl.loc[f'{virus}_v2_R2','Sequence'])\n",
    "tseq = contbl.loc[f'{virus}_v2_gblock_1','Sequence'][consensus_header:]\n",
    "print(f'For: {fseqs}\\nRev: {rseqs}\\nTarget: {tseq}')\n",
    "for fseq in fseqs:\n",
    "    for rseq in rseqs:\n",
    "        print('For, Rev in Target: %i, %i' % (fseq in tseq, reverse_complement_dna(rseq) in tseq))\n",
    "if fseq not in tseq:\n",
    "    print('For - Target dist: %i' % get_min_dist(fseq, tseq))\n",
    "if reverse_complement_dna(rseq) not in tseq:\n",
    "    print('Rev - Target dist: %i' % get_min_dist(reverse_complement_dna(rseq), tseq))"
   ]
  },
  {
   "cell_type": "code",
   "execution_count": null,
   "metadata": {},
   "outputs": [],
   "source": [
    "tarfs = [ f'{SEQPATH}/{virus.upper()}_2022.fasta', f'{SEQPATH}/{virus.upper()}_Africa.fasta'  ]\n",
    "fig, axes = plt.subplots(1, len(tarfs), figsize=(2*len(tarfs), 2), sharey=True)\n",
    "\n",
    "for tarf, ax in zip(tarfs, axes):\n",
    "    tarseqs = get_fasta_seqs(tarf)\n",
    "    tlens = [ len(seq) for seq in tarseqs.values() ]\n",
    "    ax.hist(tlens)\n",
    "    ax.set_title('%s (n=%i)' % (tarf.split('/')[-1].split('.')[0], len(tlens)), fontsize=9)"
   ]
  },
  {
   "cell_type": "code",
   "execution_count": null,
   "metadata": {},
   "outputs": [],
   "source": [
    "def measure_dist(seq, ref, dcut=5):\n",
    "    if len(ref) < len(seq):\n",
    "        return (-1, 999) \n",
    "    if seq in ref:\n",
    "        return (ref.find(seq), 0)\n",
    "    for i in range(len(ref)-len(seq)):\n",
    "        if distance(seq, ref[i:i+len(seq)]) <= dcut:\n",
    "            return (i, distance(seq, ref[i:i+len(seq)]))\n",
    "    return (-1, 999)\n",
    "\n",
    "tarseqs = get_fasta_seqs(tarfs[0])\n",
    "for seq in tarseqs.values():\n",
    "    fpos, fd = measure_dist(fseqs[0], seq)\n",
    "    rpos, rd = measure_dist(reverse_complement_dna(rseqs[0]), seq)\n",
    "    if fd<999 and rd<999:\n",
    "        print(rpos-fpos)\n",
    "        #print('Seq includes the consensus')\n",
    "        #break"
   ]
  },
  {
   "cell_type": "code",
   "execution_count": null,
   "metadata": {},
   "outputs": [],
   "source": [
    "select = tarfs[0]\n",
    "!cp $select $ASSORTPATH"
   ]
  },
  {
   "cell_type": "markdown",
   "metadata": {},
   "source": [
    "### ONN"
   ]
  },
  {
   "cell_type": "code",
   "execution_count": null,
   "metadata": {},
   "outputs": [],
   "source": [
    "virus = 'ONN'\n",
    "fseqs = expand_degenerate_sequence(pritbl.loc[f'{virus}_v2_F','Sequence'])\n",
    "rseqs = expand_degenerate_sequence(pritbl.loc[f'{virus}_v2_R','Sequence'])\n",
    "tseq = contbl.loc[f'{virus}_v2_gblock_1','Sequence'][consensus_header:]\n",
    "print(f'For: {fseqs}\\nRev: {rseqs}\\nTarget: {tseq}')\n",
    "for fseq in fseqs:\n",
    "    for rseq in rseqs:\n",
    "        print('For, Rev in Target: %i, %i' % (fseq in tseq, reverse_complement_dna(rseq) in tseq))\n",
    "if fseq not in tseq:\n",
    "    print('For - Target dist: %i' % get_min_dist(fseq, tseq))\n",
    "if reverse_complement_dna(rseq) not in tseq:\n",
    "    print('Rev - Target dist: %i' % get_min_dist(reverse_complement_dna(rseq), tseq))"
   ]
  },
  {
   "cell_type": "code",
   "execution_count": null,
   "metadata": {},
   "outputs": [],
   "source": [
    "tarfs = [ f'{SEQPATH}/{virus}.fasta', f'{SEQPATH}/{virus}.fasta'  ]\n",
    "fig, axes = plt.subplots(1, len(tarfs), figsize=(2*len(tarfs), 2), sharey=True)\n",
    "\n",
    "for tarf, ax in zip(tarfs, axes):\n",
    "    tarseqs = get_fasta_seqs(tarf)\n",
    "    tlens = [ len(seq) for seq in tarseqs.values() ]\n",
    "    ax.hist(tlens)\n",
    "    ax.set_title('%s (n=%i)' % (tarf.split('/')[-1].split('.')[0], len(tlens)), fontsize=9)"
   ]
  },
  {
   "cell_type": "code",
   "execution_count": null,
   "metadata": {},
   "outputs": [],
   "source": [
    "tarseqs = get_fasta_seqs(tarfs[0])\n",
    "for seq in tarseqs.values():\n",
    "    if measure_dist(tseq, seq)[1]<999:\n",
    "        print('Seq includes the consensus')\n",
    "        break"
   ]
  },
  {
   "cell_type": "code",
   "execution_count": null,
   "metadata": {},
   "outputs": [],
   "source": [
    "select = tarfs[0]\n",
    "!cp $select $ASSORTPATH"
   ]
  },
  {
   "cell_type": "markdown",
   "metadata": {},
   "source": [
    "### LASV"
   ]
  },
  {
   "cell_type": "code",
   "execution_count": null,
   "metadata": {},
   "outputs": [],
   "source": [
    "virus = 'LASV'\n",
    "fseqs = expand_degenerate_sequence(pritbl.loc[f'{virus}_S_v2_F','Sequence'])\n",
    "rseqs = expand_degenerate_sequence(pritbl.loc[f'{virus}_S_v2_R','Sequence'])\n",
    "tseq = contbl.loc[f'{virus}_v2_gblock_1','Sequence'][consensus_header:]\n",
    "print(f'For: {fseqs}\\nRev: {rseqs}\\nTarget: {tseq}')\n",
    "for fseq in fseqs:\n",
    "    for rseq in rseqs:\n",
    "        print('For, Rev in Target: %i, %i' % (fseq in tseq, reverse_complement_dna(rseq) in tseq))\n",
    "if fseq not in tseq:\n",
    "    print('For - Target dist: %i' % get_min_dist(fseq, tseq))\n",
    "if reverse_complement_dna(rseq) not in tseq:\n",
    "    print('Rev - Target dist: %i' % get_min_dist(reverse_complement_dna(rseq), tseq))"
   ]
  },
  {
   "cell_type": "code",
   "execution_count": null,
   "metadata": {},
   "outputs": [],
   "source": [
    "tarfs = [ f for f in os.listdir(f'{SEQPATH}') if f.startswith(f'{virus}_S_') ]\n",
    "fig, axes = plt.subplots(1, len(tarfs), figsize=(2*len(tarfs), 2), sharey=True)\n",
    "\n",
    "for tarf, ax in zip(tarfs, axes):\n",
    "    tarseqs = get_fasta_seqs(f'{SEQPATH}/{tarf}')\n",
    "    tlens = [ len(seq) for seq in tarseqs.values() ]\n",
    "    ax.hist(tlens)\n",
    "    ax.set_title('%s (n=%i)' % (tarf.split('/')[-1].split('.')[0], len(tlens)), fontsize=9)"
   ]
  },
  {
   "cell_type": "code",
   "execution_count": null,
   "metadata": {},
   "outputs": [],
   "source": [
    "tarseqs = get_fasta_seqs(f'{SEQPATH}/{tarfs[0]}')\n",
    "for seq in tarseqs.values():\n",
    "    if measure_dist(tseq, seq)[1]<15:\n",
    "        print('Seq includes the consensus')\n",
    "        break"
   ]
  },
  {
   "cell_type": "code",
   "execution_count": null,
   "metadata": {},
   "outputs": [],
   "source": [
    "select = tarfs[0]\n",
    "!cp $select $ASSORTPATH"
   ]
  },
  {
   "cell_type": "markdown",
   "metadata": {},
   "source": [
    "### Mpox"
   ]
  },
  {
   "cell_type": "code",
   "execution_count": null,
   "metadata": {},
   "outputs": [],
   "source": [
    "virus = 'Mpox_B1'\n",
    "fseqs = expand_degenerate_sequence(pritbl.loc[f'{virus}_v2_F','Sequence'])\n",
    "rseqs = expand_degenerate_sequence(pritbl.loc[f'{virus}_v2_R','Sequence'])\n",
    "tseq = contbl.loc[f'{virus}_v2_gblock_1','Sequence'][consensus_header:]\n",
    "print(f'For: {fseqs}\\nRev: {rseqs}\\nTarget: {tseq}')\n",
    "for fseq in fseqs:\n",
    "    for rseq in rseqs:\n",
    "        print('For, Rev in Target: %i, %i' % (fseq in tseq, reverse_complement_dna(rseq) in tseq))\n",
    "if fseq not in tseq:\n",
    "    print('For - Target dist: %i' % get_min_dist(fseq, tseq))\n",
    "if reverse_complement_dna(rseq) not in tseq:\n",
    "    print('Rev - Target dist: %i' % get_min_dist(reverse_complement_dna(rseq), tseq))"
   ]
  },
  {
   "cell_type": "code",
   "execution_count": null,
   "metadata": {},
   "outputs": [],
   "source": [
    "virus = 'Mpox_CladeI'\n",
    "fseqs = expand_degenerate_sequence(pritbl.loc[f'{virus}_v2_F','Sequence'])\n",
    "rseqs = expand_degenerate_sequence(pritbl.loc[f'{virus}_v2_R','Sequence'])\n",
    "tseq = contbl.loc[f'{virus}_v2_gblock_1','Sequence'][consensus_header:]\n",
    "print(f'For: {fseqs}\\nRev: {rseqs}\\nTarget: {tseq}')\n",
    "for fseq in fseqs:\n",
    "    for rseq in rseqs:\n",
    "        print('For, Rev in Target: %i, %i' % (fseq in tseq, reverse_complement_dna(rseq) in tseq))\n",
    "if fseq not in tseq:\n",
    "    print('For - Target dist: %i' % get_min_dist(fseq, tseq))\n",
    "if reverse_complement_dna(rseq) not in tseq:\n",
    "    print('Rev - Target dist: %i' % get_min_dist(reverse_complement_dna(rseq), tseq))"
   ]
  },
  {
   "cell_type": "markdown",
   "metadata": {},
   "source": [
    "## Combine target seqs"
   ]
  },
  {
   "cell_type": "code",
   "execution_count": null,
   "metadata": {},
   "outputs": [],
   "source": [
    "allvs = [(f.split('_')[0],f) if '_' in f else (f.split('.')[0],f) for f in sorted(os.listdir(ASSORTPATH))\n",
    "         if not f.startswith('bbp')]\n",
    "allvns = [vname for vname,fasta in allvs]\n",
    "fastas = dict(allvs)\n",
    "print('# virus: %i' % len(allvs), allvs[0])"
   ]
  },
  {
   "cell_type": "code",
   "execution_count": null,
   "metadata": {},
   "outputs": [],
   "source": [
    "# for virus in allvns:\n",
    "#     parsed = f'{SAMPATH}/{virus}.parsed'\n",
    "#     mapped = f'{SAMPATH}/{virus}.target.mapped'\n",
    "#     mapful = f'{SAMPATH}/{virus}.target.mapped.full'\n",
    "    \n",
    "#     newparsed = f'{SAMPATH}/{virus}.{virus}.parsed'\n",
    "#     newmapped = f'{SAMPATH}/{virus}.{virus}.mapped'\n",
    "#     newmapful = f'{SAMPATH}/{virus}.{virus}.mapped.full'\n",
    "#     #!mv $parsed $newparsed\n",
    "#     !mv $mapped $newmapped\n",
    "#     !mv $mapful $newmapful"
   ]
  },
  {
   "cell_type": "code",
   "execution_count": null,
   "metadata": {},
   "outputs": [],
   "source": [
    "# bbpf = f'{ASSORTPATH}/bbp_combined_0810.fa'\n",
    "# with open(bbpf, 'wt') as out:\n",
    "#     for vname, fasta in allvs:\n",
    "#         for s in SeqIO.parse(f'{ASSORTPATH}/{fasta}', 'fasta'):\n",
    "#             seqname = f'{vname}_{s.id}'\n",
    "#             seq = str(s.seq)\n",
    "#             out.write(f'>{seqname}\\n{seq}\\n')\n",
    "# !head -1 $bbpf"
   ]
  },
  {
   "cell_type": "markdown",
   "metadata": {},
   "source": [
    "### LASV and HCV"
   ]
  },
  {
   "cell_type": "code",
   "execution_count": null,
   "metadata": {},
   "outputs": [],
   "source": [
    "fs_lassa = [ f for f in os.listdir(SEQPATH) if 'LASV_S_' in f ]\n",
    "fs_lassa"
   ]
  },
  {
   "cell_type": "code",
   "execution_count": null,
   "metadata": {},
   "outputs": [],
   "source": [
    "seqs_lassa = {}\n",
    "for f in fs_lassa:\n",
    "    seqs = get_fasta_seqs(f'{SEQPATH}/{f}')\n",
    "    print(f, len(seqs), np.min([len(s) for s in seqs.values()]))\n",
    "    seqs_lassa.update(seqs)\n",
    "print(len(seqs_lassa))"
   ]
  },
  {
   "cell_type": "code",
   "execution_count": null,
   "metadata": {},
   "outputs": [],
   "source": [
    "fs_hcv = [ f for f in os.listdir(SEQPATH) if 'HCV' in f ]\n",
    "fs_hcv"
   ]
  },
  {
   "cell_type": "code",
   "execution_count": null,
   "metadata": {},
   "outputs": [],
   "source": [
    "seqs_hcv = {}\n",
    "for f in fs_hcv:\n",
    "    seqs = get_fasta_seqs(f'{SEQPATH}/{f}')\n",
    "    print(f, len(seqs))\n",
    "    seqs_hcv.update(seqs)\n",
    "print(len(seqs_hcv))"
   ]
  },
  {
   "cell_type": "markdown",
   "metadata": {},
   "source": [
    "## Get published primer seqs"
   ]
  },
  {
   "cell_type": "code",
   "execution_count": null,
   "metadata": {
    "code_folding": []
   },
   "outputs": [],
   "source": [
    "pub_pris = defaultdict(list)\n",
    "vcnts = defaultdict(int)\n",
    "for pname, row in pritbl.iterrows():\n",
    "    if pname.startswith('Mpox_B1_v2'):\n",
    "        vn = 'mpoxIIb'\n",
    "    elif pname.startswith('Mpox_CladeI'):\n",
    "        vn = 'mpoxIaIb'\n",
    "    elif pname == 'DVT_v2_F':\n",
    "        seq = expand_degenerate_sequence(row['Sequence'])[0]\n",
    "        for i in range(1,5):\n",
    "            vn = f'DVT{i}'\n",
    "            pname = f'{vn}_pub_1_f'\n",
    "            pub_pris[vn].append((pname, seq))\n",
    "        continue\n",
    "    elif pname.startswith('DVT'):\n",
    "        vn = pname.split('_')[0] + pname[-1]\n",
    "        pname = pname[:-1]\n",
    "    elif pname.startswith('Zika'):\n",
    "        vn = 'ZIKA'\n",
    "    else:\n",
    "        vn = pname.split('_')[0]\n",
    "    if vn not in allvns:\n",
    "        continue\n",
    "    \n",
    "    ori = pname.split('_')[-1]\n",
    "    if len(ori) == 2: # R1 \n",
    "        ori = ori[0].lower()\n",
    "    else:\n",
    "        ori = ori.lower()\n",
    "        \n",
    "    seqs = expand_degenerate_sequence(row['Sequence'])\n",
    "    if vn in allvns:\n",
    "        for seq in seqs:\n",
    "            vcnts[(vn,ori)] += 1\n",
    "            num = vcnts[(vn,ori)]\n",
    "            pname = f'{vn}_pub_{num}_{ori}'\n",
    "            pub_pris[vn].append((pname, seq))\n",
    "\n",
    "for vn in pub_pris:\n",
    "    print(vn, len(pub_pris[vn]))\n",
    "print('# published primers: %i' % len(pub_pris))"
   ]
  },
  {
   "cell_type": "markdown",
   "metadata": {},
   "source": [
    "## Generate primers"
   ]
  },
  {
   "cell_type": "markdown",
   "metadata": {},
   "source": [
    "### Prep"
   ]
  },
  {
   "cell_type": "code",
   "execution_count": null,
   "metadata": {},
   "outputs": [],
   "source": [
    "## Sequences of the targets\n",
    "#TARGETS = '/home/jupyter/ADAPT_PCR_share/safe/design/pipeline/H5N1_all_seqs_01_24_to_05_25.fasta'\n",
    "\n",
    "## Sequences of the host\n",
    "HOST = '/home/jupyter/ADAPT_PCR_share/safe/resources/genomes/Homo_sapiens.GRCh38.tx.sort.fa.gz'\n",
    "\n",
    "## Bowtie2 index path\n",
    "IDXPATH = '/home/jupyter/ADAPT_PCR_share/safe/resources/genomes/bowtie2'\n",
    "\n",
    "## Output path\n",
    "WORKPATH = '/home/jupyter/ADAPT_PCR_share/safe/design/BBP'\n",
    "\n",
    "## Output name (a directory will be made with this name under the output path)\n",
    "OUTNAME = '0810_test'"
   ]
  },
  {
   "cell_type": "code",
   "execution_count": null,
   "metadata": {},
   "outputs": [],
   "source": [
    "OUTPATH = '%s/%s' % (WORKPATH, OUTNAME)\n",
    "if not os.path.exists(OUTPATH):\n",
    "    os.makedirs(OUTPATH)\n",
    "\n",
    "PRIPATH = '%s/primer_seqs' % OUTPATH\n",
    "TARPATH = '%s/target_seqs' % OUTPATH\n",
    "SAMPATH = '%s/alignments' % OUTPATH\n",
    "INPPATH = '%s/inputs' % OUTPATH\n",
    "OUPPATH = '%s/outputs' % OUTPATH\n",
    "TMPPATH = '%s/temp' % OUTPATH\n",
    "for path in [PRIPATH, SAMPATH, TMPPATH]:\n",
    "    if not os.path.exists(path):\n",
    "        os.makedirs(path)\n",
    "\n",
    "LOG = '%s/log' % OUTPATH\n",
    "# with open(LOG, 'wt') as out:\n",
    "#     out.write('''Input files\n",
    "#   TARGETS = '/home/jupyter/ADAPT_PCR_share/safe/design/pipeline/H5N1_all_seqs_01_24_to_05_25.fasta'\n",
    "#   SPECIFICITY = '/home/jupyter/ADAPT_PCR_share/safe/design/H5/target_seqs/h1h3_combined.fa'\n",
    "#   HOST = '/home/jupyter/ADAPT_PCR_share/safe/resources/genomes/Homo_sapiens.GRCh38.tx.sort.fa.gz'\n",
    "#   IDXPATH = '/home/jupyter/ADAPT_PCR_share/safe/resources/genomes/bowtie2'\n",
    "#   PARAMFILE = '/home/jupyter/ADAPT_PCR_share/safe/design/pipeline/params.txt'\n",
    "#   WORKPATH = '/home/jupyter/ADAPT_PCR_share/safe/design/pipeline'\n",
    "#   OUTNAME = '0728_H5'\\n\\n''')"
   ]
  },
  {
   "cell_type": "code",
   "execution_count": null,
   "metadata": {},
   "outputs": [],
   "source": [
    "allvs = [(f.split('_')[0],f) if '_' in f else (f.split('.')[0],f) for f in sorted(os.listdir(TARPATH))]\n",
    "allvns = [vname for vname,fasta in allvs]\n",
    "fastas = dict(allvs)\n",
    "print('# virus: %i' % len(allvs), allvs[0])"
   ]
  },
  {
   "cell_type": "code",
   "execution_count": null,
   "metadata": {},
   "outputs": [],
   "source": [
    "PARAMFILE = f'{OUTPATH}/params.txt'\n",
    "PARAMS = {}\n",
    "for l in open(PARAMFILE, 'rt'):\n",
    "    print(l.strip())\n",
    "    if '=' in l:\n",
    "        param, value = map(lambda x:x.strip(), l.split('='))\n",
    "        try:\n",
    "            PARAMS[param] = int(value)\n",
    "        except ValueError:\n",
    "            PARAMS[param] = value"
   ]
  },
  {
   "cell_type": "code",
   "execution_count": null,
   "metadata": {},
   "outputs": [],
   "source": [
    "from Bio.SeqUtils import MeltingTemp, gc_fraction\n",
    "def get_tm(seq):\n",
    "    return MeltingTemp.Tm_NN(seq, Na=50, Mg=1.5, dNTPs=.6)\n",
    "\n",
    "def get_gc(seq):\n",
    "    return gc_fraction(seq)*100\n",
    "\n",
    "def get_dg_vienna(seq1, seq2):\n",
    "    inp = '\"%s\\n%s\"'%(seq1,seq2)\n",
    "    res = !echo -e $inp | $RNAduplex - --noconv --paramFile=DNA 2>tmp\n",
    "    dg = float(res[0].split()[-1][1:-1])\n",
    "    return dg    \n",
    "\n",
    "def get_primers_single_target(target_seq, step):\n",
    "    plen = PARAMS['PRIMER_LEN']\n",
    "    minlen = PARAMS['AMPLEN_MIN']\n",
    "    \n",
    "    target_seq_rc = reverse_complement_dna(target_seq)\n",
    "    forps, revps = {}, {}\n",
    "    for i in range(0, len(target_seq)-plen-minlen, step):\n",
    "        fseq = target_seq[i:i+plen]\n",
    "        if 'N' not in fseq:\n",
    "            forps[fseq] = i\n",
    "        rseq = target_seq_rc[i:i+plen]\n",
    "        if 'N' not in rseq:\n",
    "            revps[rseq] = len(target_seq)-i\n",
    "    return forps, revps\n",
    "\n",
    "def get_primers_multi_target(target_seqs, step=PARAMS['TILING_STEP']):\n",
    "    forps, revps = {}, {}\n",
    "    for tseq in target_seqs:\n",
    "        flist, rlist = get_primers_single_target(tseq, step)\n",
    "        forps.update(flist)\n",
    "        revps.update(rlist)\n",
    "    \n",
    "    for_filt, rev_filt = {}, {}\n",
    "    for plist, filt in zip([forps,revps],[for_filt,rev_filt]):\n",
    "        for pseq in plist:\n",
    "            gc = get_gc(pseq) # gc_fraction(pseq)\n",
    "            tm = get_tm(pseq)\n",
    "            if PARAMS['TM_MIN']<=tm<=PARAMS['TM_MAX'] and gc<=PARAMS['GC_MAX']:\n",
    "                dg = get_dg_vienna(pseq, pseq)\n",
    "                if PARAMS['DG_MIN']<=dg:\n",
    "                    filt[pseq] = plist[pseq]           \n",
    "    return forps, revps, for_filt, rev_filt\n",
    "\n",
    "def count_primer_pairs(sts, ens, minlen=PARAMS['AMPLEN_MIN'], maxlen=PARAMS['AMPLEN_MAX']):\n",
    "    ens_sorted = sorted(ens)\n",
    "    count = 0\n",
    "    for st in sts:\n",
    "        left = bisect.bisect_left(ens_sorted, st + minlen)\n",
    "        right = bisect.bisect_right(ens_sorted, st + maxlen)\n",
    "        count += (right - left)\n",
    "    return count"
   ]
  },
  {
   "cell_type": "markdown",
   "metadata": {},
   "source": [
    "### Generate"
   ]
  },
  {
   "cell_type": "code",
   "execution_count": null,
   "metadata": {},
   "outputs": [],
   "source": [
    "consen_seqs = {}\n",
    "for vn in allvns:\n",
    "    vn0 = vn\n",
    "    if vn.startswith('DVT'):\n",
    "        vn = vn.replace('DVT','DengueT')\n",
    "    if vn == 'ZIKA':\n",
    "        vn = 'Zika'\n",
    "    if vn == 'mpoxIIb':\n",
    "        vn = 'Mpox_B1'\n",
    "    if vn == 'mpoxIaIb':\n",
    "        vn = 'Mpox_CladeI'\n",
    "    tseq = contbl.loc[f'{vn}_v2_gblock_1','Sequence'][consensus_header:]\n",
    "    consen_seqs[vn0] = tseq\n",
    "print(len(consen_seqs))"
   ]
  },
  {
   "cell_type": "code",
   "execution_count": null,
   "metadata": {
    "code_folding": []
   },
   "outputs": [],
   "source": [
    "slicers = {}\n",
    "for vn in ['LASV']:# allvns:\n",
    "    fasta = f'{TARPATH}/{fastas[vn]}'\n",
    "    tarseqs = get_fasta_seqs(fasta).values()\n",
    "    consen = consen_seqs[vn]\n",
    "    for seq in tarseqs:\n",
    "        st, dist = measure_dist(consen, seq)\n",
    "        if dist < 999:\n",
    "            break\n",
    "    else:\n",
    "        st, dist = measure_dist(pub_pris[f'{vn}_pub_1_f'], seq)\n",
    "        \n",
    "    if st < 500:\n",
    "        sl = slice(None, 1500)\n",
    "    elif st > min(map(len, tarseqs)) - 1500:\n",
    "        sl = slice(-1500, None)\n",
    "    else:\n",
    "        sl = slice((st//500)*500-500, (st//500)*500+1000)\n",
    "    slicers[vn] = sl    \n",
    "    print(vn, sl)"
   ]
  },
  {
   "cell_type": "code",
   "execution_count": null,
   "metadata": {},
   "outputs": [],
   "source": [
    "pub_pris['LASV']"
   ]
  },
  {
   "cell_type": "code",
   "execution_count": null,
   "metadata": {},
   "outputs": [],
   "source": [
    "start = time.time()\n",
    "for vname in ['LASV']:# allvns:\n",
    "    TARGETS = f'{TARPATH}/{fastas[vname]}'\n",
    "    sl = slicers[vname]\n",
    "    target_seqs = [str(s.seq) for s in SeqIO.parse(TARGETS,'fasta')]\n",
    "    tlen = np.average([len(tseq) for tseq in target_seqs])\n",
    "    target_seqs = [ tseq[sl] for tseq in target_seqs ]\n",
    "    forps, revps, for_filt, rev_filt = get_primers_multi_target(target_seqs)\n",
    "    allps = count_primer_pairs(forps.values(), revps.values())\n",
    "    selps = count_primer_pairs(for_filt.values(), rev_filt.values())\n",
    "    print('%s (n=%i, mean len=%.0f bp, design=%s-%s)' % (vname, len(target_seqs), tlen, sl.start, sl.stop))\n",
    "    print('Unique primers: %i forward, %i reverse, %i pairs' % (len(forps), len(revps), allps))\n",
    "    print('Pre-selected: %i forward, %i reverse, %i pairs' % (len(for_filt), len(rev_filt), selps))\n",
    "\n",
    "    prefa = f'{PRIPATH}/{vname}_pre.fa'\n",
    "    with open(prefa, 'wt') as out:\n",
    "        for pname, seq in pub_pris[vname]:\n",
    "            out.write(f'>{pname}\\n{seq}\\n')\n",
    "        for i, pseq in enumerate(for_filt.keys()):\n",
    "            out.write('>%s_ai_%s_f\\n%s\\n'%(vname, i+1, pseq))\n",
    "        for i, pseq in enumerate(rev_filt.keys()):\n",
    "            out.write('>%s_ai_%s_r\\n%s\\n'%(vname, i+1, pseq))\n",
    "\n",
    "#     with open(LOG, 'a') as out:\n",
    "#         out.write(' %s (n=%i, mean len=%.0f bp, design=%s-%s)\\n' % (vname, len(target_seqs), tlen, sl.start, sl.stop))\n",
    "#         out.write(' Unique primers: %i forward, %i reverse, %i pairs\\n' % (len(forps), len(revps), allps))\n",
    "#         out.write(' Pre-selected: %i forward, %i reverse, %i pairs\\n' % (len(for_filt), len(rev_filt), selps))\n",
    "    \n",
    "runtime = (time.time() - start)\n",
    "print('Run time: %.3f sec' % runtime)"
   ]
  },
  {
   "cell_type": "code",
   "execution_count": null,
   "metadata": {},
   "outputs": [],
   "source": [
    "allfa = f'{PRIPATH}/all_pre.fa'\n",
    "# with open(allfa, 'a') as allout:\n",
    "#     for pname in sorted(pub_pris.keys()):\n",
    "#         seq = pub_pris[pname]\n",
    "#         allout.write(f'>{pname}\\n{seq}\\n')\n",
    "!wc -l $allfa"
   ]
  },
  {
   "cell_type": "code",
   "execution_count": null,
   "metadata": {},
   "outputs": [],
   "source": [
    "# for vname, fasta in allvs:\n",
    "#     prefa = f'{PRIPATH}/{vname}_pre.fa'\n",
    "#     allps = get_fasta_seqs(prefa)\n",
    "#     print(vname, len([p for p in allps if 'pub' in p]))\n",
    "#     with open(prefa, 'a') as out:\n",
    "#         for pname, seq in pub_pris[vname]:\n",
    "#             if pname not in allps:\n",
    "#                 out.write(f'>{pname}\\n{seq}\\n')\n",
    "#                 print(pname)\n",
    "# !tail -4 $prefa"
   ]
  },
  {
   "cell_type": "markdown",
   "metadata": {},
   "source": [
    "## Map"
   ]
  },
  {
   "cell_type": "code",
   "execution_count": null,
   "metadata": {},
   "outputs": [],
   "source": [
    "virus = 'LASV'\n",
    "sam = f'/home/jupyter/ADAPT_PCR_share/safe/design/BBP/0810_test/alignments/{virus}.{virus}.sam'\n",
    "fa = f'/home/jupyter/ADAPT_PCR_share/safe/design/BBP/0810_test/primer_seqs/{virus}_pre.fa'\n",
    "key = f'\"$(tail -2 {sam} | head -1 | cut -f1)\"'\n",
    "!wc -l $fa\n",
    "!grep -n $key $fa"
   ]
  },
  {
   "cell_type": "markdown",
   "metadata": {},
   "source": [
    "## Make input"
   ]
  },
  {
   "cell_type": "code",
   "execution_count": null,
   "metadata": {},
   "outputs": [],
   "source": [
    "#!du -h $INPPATH/*"
   ]
  },
  {
   "cell_type": "code",
   "execution_count": null,
   "metadata": {},
   "outputs": [],
   "source": [
    "def _ensure_list(x):\n",
    "    if isinstance(x, list):\n",
    "        return x\n",
    "    if pd.isna(x):\n",
    "        return []\n",
    "    return [x]\n",
    "\n",
    "MIN_BP, MAX_BP = 55, 180\n",
    "names = ['pname','orientation','tname','start','pseq','tseq','match']\n",
    "\n",
    "virus = 'ONN'\n",
    "mapped = f'/home/jupyter/ADAPT_PCR_share/safe/design/BBP/0810_test/alignments/{virus}.{virus}.mapped.full'\n",
    "#evalf = f'/home/jupyter/ADAPT_PCR_share/safe/design/BBP/0810_test/inputs/{virus}.{virus}.input'\n",
    "\n",
    "raw = pd.read_table(mapped, sep='\\t', names=names)\n",
    "maptbl = raw.groupby(['pname','pseq','tseq']).first()\n",
    "maptbl['tnames'] = raw.groupby(['pname','pseq','tseq'])['tname'].apply(list)\n",
    "maptbl['starts'] = raw.groupby(['pname','pseq','tseq'])['start'].apply(list)\n",
    "maptbl = maptbl.reset_index()\n",
    "maptbl['pgap'] = maptbl['pseq'].apply(lambda x: x.count('-'))\n",
    "maptbl['tgap'] = maptbl['tseq'].apply(lambda x: x.count('-'))\n",
    "maptbl['indel'] = maptbl['pgap'] + maptbl['tgap']\n",
    "maptbl['mm'] = maptbl['pseq'].apply(len) - maptbl['match'].apply(lambda x: x.count('|')) - maptbl['indel']\n",
    "maptbl['pseq_raw'] = maptbl['pseq'].apply(lambda x: x.replace('-',''))\n",
    "maptbl['len'] = maptbl['pseq_raw'].apply(len)\n",
    "maptbl['Tm'] = maptbl['pseq_raw'].apply(get_tm)\n",
    "maptbl['GC'] = maptbl['pseq_raw'].apply(gc_fraction)\n",
    "\n",
    "subcols = ['pname','pseq','pseq_raw','tseq','orientation','mm','indel','len','Tm','GC','tnames','starts']\n",
    "fors = maptbl.loc[maptbl.apply(lambda row:(row['orientation']%256==0)&('_f' in row['pname']),axis=1), subcols]\n",
    "revs = maptbl.loc[maptbl.apply(lambda row:(row['orientation']%256==16)&('_r' in row['pname']),axis=1), subcols]\n",
    "revs['pseq'] = revs['pseq'].apply(rev_com_enc)\n",
    "revs['tseq'] = revs['tseq'].apply(rev_com_enc)\n",
    "\n",
    "revs_meta = revs.reset_index().rename(columns={\"index\": \"r_id\"})\n",
    "rev_index = defaultdict(list)\n",
    "for r in revs_meta.itertuples(index=False):\n",
    "    tnames = _ensure_list(getattr(r, \"tnames\"))\n",
    "    starts = _ensure_list(getattr(r, \"starts\"))\n",
    "    r_id   = getattr(r, \"r_id\")\n",
    "    for t, st in zip(tnames, starts):\n",
    "        rev_index[t].append((r_id, int(st)))\n",
    "\n",
    "# 1) 출력 파일 초기화(기존 파일 덮어쓰려면)\n",
    "header_flag = True\n",
    "\n",
    "# 2) forward를 한 줄씩 훑으며 매칭\n",
    "for f in fors.itertuples():\n",
    "    f_id    = f.Index\n",
    "    tnamesf = _ensure_list(getattr(f, \"tnames\"))\n",
    "    startsf = _ensure_list(getattr(f, \"starts\"))\n",
    "    if not tnamesf or not startsf:\n",
    "        continue\n",
    "\n",
    "    # r_id -> 공통 타깃 set\n",
    "    targets_by_r = defaultdict(set)\n",
    "\n",
    "    for t_f, st_f in zip(tnamesf, startsf):\n",
    "        cand = rev_index.get(t_f)\n",
    "        if not cand:\n",
    "            continue\n",
    "        for r_id, st_r in cand:\n",
    "            d = st_r - int(st_f)   # 방향성 유지 (rev - fwd)\n",
    "            if MIN_BP <= d <= MAX_BP:\n",
    "                targets_by_r[r_id].add(t_f)\n",
    "\n",
    "    if not targets_by_r:\n",
    "        continue\n",
    "\n",
    "    # 3) 이번 forward 행과 매칭된 reverse 부분만 뽑아 cross-merge 1회\n",
    "    rev_ids = list(targets_by_r.keys())\n",
    "    revsub = revs.loc[rev_ids].copy()\n",
    "    # 공통 타깃 리스트 부여(인덱스 정렬과 무관하게 r_id 기준으로 매핑)\n",
    "    revsub[\"targets\"] = [sorted(list(targets_by_r[r_id])) for r_id in revsub.index]\n",
    "\n",
    "    forsub = fors.loc[[f_id]].copy().drop(['tnames','starts'],axis=1)\n",
    "    pairs = forsub.merge(revsub.drop(['tnames','starts'],axis=1), how=\"cross\", suffixes=(\"_f\", \"_r\"))\n",
    "\n",
    "    # 필요 시 산출값 계산(지금은 placeholder)\n",
    "    pairs[\"prod_len\"] = 125\n",
    "    pairs[\"prod_Tm\"] = 85\n",
    "\n",
    "    #pairs.to_csv(evalf, mode=\"a\", index=False, header=header_flag)\n",
    "    #header_flag = False\n"
   ]
  },
  {
   "cell_type": "markdown",
   "metadata": {},
   "source": [
    "## Evaluation with ML"
   ]
  },
  {
   "cell_type": "code",
   "execution_count": null,
   "metadata": {},
   "outputs": [],
   "source": [
    "def encode_row(row):\n",
    "    fenc = one_hot_encode(row['pseq_f'])\n",
    "    ftenc = one_hot_encode(row['tseq_f'])\n",
    "    renc = one_hot_encode(row['pseq_r'])\n",
    "    rtenc = one_hot_encode(row['tseq_r'])\n",
    "    prienc = np.append(fenc, renc, axis=0)   # Primer\n",
    "    tarenc = np.append(ftenc, rtenc, axis=0) # Target\n",
    "    combined = np.append(tarenc, prienc, axis=1)\n",
    "    return combined\n",
    "\n",
    "def one_hot_encode_pbs_gap_parallel(df_seqs):\n",
    "    rows = df_seqs.to_dict('records')\n",
    "    with Pool(processes=cpu_count()) as pool:\n",
    "        results = pool.map(encode_row, rows)\n",
    "\n",
    "    final_encoded = np.array(results)  # (batch, 56, 10)\n",
    "    #print(final_encoded.shape)\n",
    "    return torch.tensor(final_encoded, dtype=torch.float32)"
   ]
  },
  {
   "cell_type": "code",
   "execution_count": null,
   "metadata": {},
   "outputs": [],
   "source": [
    "import ast\n",
    "from sklearn.preprocessing import MultiLabelBinarizer\n",
    "featcols = ['len_f','Tm_f','GC_f','indel_f','mm_f','len_r','Tm_r','GC_r','indel_r','mm_r','prod_len','prod_Tm']\n",
    "newcols = ['f_len','f_Tm','f_GC','f_indel','f_mm','r_len','r_Tm','r_GC','r_indel','r_mm','prod_len','prod_Tm']\n",
    "inpcols = ['pname_f','pname_r','targets']"
   ]
  },
  {
   "cell_type": "code",
   "execution_count": null,
   "metadata": {},
   "outputs": [],
   "source": [
    "tnames = {}\n",
    "for virus in allvns:\n",
    "    tnames[virus] = [s.id for s in SeqIO.parse(f'{TARPATH}/{fastas[virus]}', 'fasta')]\n",
    "\n",
    "selected = ['CCHFV','CHIK','EBOVZ','HCV','LASV','mpoxIaIb','mpoxIIb','WNV','YFV','ZIKA']\n",
    "print(len(selected))"
   ]
  },
  {
   "cell_type": "code",
   "execution_count": null,
   "metadata": {},
   "outputs": [],
   "source": [
    "# virus = 'MMV'\n",
    "# fa = f'{TARPATH}/{virus}_all_2022.fasta'\n",
    "# pseq = 'CCTATGGGAGGTATAGAAGGG'\n",
    "# rseq = reverse_complement_dna('AGCAGCCAGGTATAAATAGGG')\n",
    "# for s in SeqIO.parse(fa, 'fasta'):\n",
    "#     tseq = str(s.seq)\n",
    "#     if pseq in tseq and rseq in tseq:\n",
    "#         print(s.id, tseq.find(pseq), tseq.find(rseq))"
   ]
  },
  {
   "cell_type": "code",
   "execution_count": null,
   "metadata": {},
   "outputs": [],
   "source": [
    "virus = 'MMV'\n",
    "clsf = f'{OUPPATH}/{virus}.{virus}.cls'\n",
    "regf = f'{OUPPATH}/{virus}.{virus}.reg'\n",
    "!rm -f $clsf $regf"
   ]
  },
  {
   "cell_type": "code",
   "execution_count": null,
   "metadata": {
    "code_folding": []
   },
   "outputs": [],
   "source": [
    "covcut = .1\n",
    "scocut = .5\n",
    "for virus in ['LASV']:# allvns: \n",
    "    inpf = f'{INPPATH}/{virus}.{virus}.input'\n",
    "    clsf = f'{OUPPATH}/{virus}.{virus}.cls'\n",
    "    regf = f'{OUPPATH}/{virus}.{virus}.reg'\n",
    "    if os.path.exists(clsf):\n",
    "        continue\n",
    "    for i, chunk in tqdm(enumerate(pd.read_csv(inpf, chunksize=100000)), desc=virus):\n",
    "        chunk['targets'] = chunk['targets'].apply(ast.literal_eval)\n",
    "\n",
    "        inps = chunk[inpcols].copy()\n",
    "        inps_feat = chunk[featcols]\n",
    "        inps_feat.columns = newcols\n",
    "        inps_seq = chunk[['pseq_f','tseq_f','pseq_r','tseq_r']]\n",
    "\n",
    "        seq_input = one_hot_encode_pbs_gap_parallel(inps_seq)\n",
    "        fea_input = scaler.transform(inps_feat)\n",
    "        labels = np.array([0]*len(inps))\n",
    "        dataset = PcrDataset(seq_input, fea_input, labels)\n",
    "        loader = DataLoader(dataset, batch_size=64, shuffle=False)\n",
    "\n",
    "        predict_cls, predict_reg = [], []\n",
    "        with torch.no_grad():\n",
    "            for seq_in, fea_in, lab in loader:\n",
    "                seq_in, fea_in, lab = seq_in.to(device).float(), fea_in.to(device).float(), lab.to(device).float()\n",
    "                out_cls = classifier(seq_in)\n",
    "                out_reg = regressor(fea_in, seq_in)\n",
    "                if len(seq_in)==1:\n",
    "                    predict_cls.append(np.array([out_cls.squeeze().detach().cpu().numpy()]))\n",
    "                    predict_reg.append(np.array([out_reg.squeeze().detach().cpu().numpy()]))\n",
    "                else:\n",
    "                    predict_cls.append(out_cls.squeeze().detach().cpu().numpy())\n",
    "                    predict_reg.append(out_reg.squeeze().detach().cpu().numpy())\n",
    "            predict_cls = np.concatenate(predict_cls)\n",
    "            predict_reg = np.round(np.concatenate(predict_reg), decimals=3)\n",
    "        inps.loc[:,'classifier'] = predict_cls\n",
    "        inps.loc[:,'regressor'] = predict_reg\n",
    "\n",
    "        mlb = MultiLabelBinarizer()\n",
    "        onehot = mlb.fit_transform(inps['targets'])\n",
    "        target_cols = list(mlb.classes_)\n",
    "        \n",
    "        for label, savef in zip(['classifier','regressor'],[clsf,regf]):\n",
    "            targets_df = pd.DataFrame(onehot, columns=target_cols, index=inps.index)\n",
    "            targets_df = targets_df.mul(inps[label], axis=0)\n",
    "            evaltbl = pd.concat([inps.drop(columns=['targets','classifier','regressor']), targets_df], axis=1)\n",
    "            agg_dict = {c: \"max\" for c in evaltbl.columns[2:]}\n",
    "            evaltbl = evaltbl.groupby(['pname_f','pname_r']).agg(agg_dict)\n",
    "            evaltbl = evaltbl.reindex(columns=tnames[virus], fill_value=0)\n",
    "\n",
    "            filt = evaltbl[(evaltbl!=0).sum(axis=1)/len(tnames[virus]) > covcut]\n",
    "            filt = filt[filt.replace(0, np.nan).mean(axis=1) > scocut]\n",
    "            pubidx = [(f,r) for f,r in evaltbl.index if 'pub' in f and 'pub' in r]\n",
    "            if pubidx:\n",
    "                filt = pd.concat([filt, evaltbl.reindex(pubidx)])\n",
    "            filt.to_csv(savef, mode='a', header=(i==0), float_format=\"%.2f\")"
   ]
  },
  {
   "cell_type": "markdown",
   "metadata": {},
   "source": [
    "## Selection"
   ]
  },
  {
   "cell_type": "code",
   "execution_count": null,
   "metadata": {},
   "outputs": [],
   "source": [
    "for virus in ['LASV']:# allvns:\n",
    "    clsf = f'{OUPPATH}/{virus}.{virus}.cls'    \n",
    "    clstbl = pd.read_csv(clsf)\n",
    "    agg_dict = {c: \"max\" for c in clstbl.columns[2:]}\n",
    "    clstbl = clstbl.groupby(['pname_f','pname_r']).agg(agg_dict)\n",
    "    clstbl.to_csv(clsf)"
   ]
  },
  {
   "cell_type": "code",
   "execution_count": null,
   "metadata": {},
   "outputs": [],
   "source": [
    "for virus in ['LASV']:# allvns:\n",
    "    regf = f'{OUPPATH}/{virus}.{virus}.reg'\n",
    "    regtbl = pd.read_csv(regf)\n",
    "    agg_dict = {c: \"max\" for c in regtbl.columns[2:]}\n",
    "    regtbl = regtbl.groupby(['pname_f','pname_r']).agg(agg_dict)\n",
    "    regtbl.to_csv(regf)"
   ]
  },
  {
   "cell_type": "code",
   "execution_count": null,
   "metadata": {},
   "outputs": [],
   "source": [
    "for virus in ['LASV']:# allvns:\n",
    "    clsf = f'{OUPPATH}/{virus}.{virus}.cls'\n",
    "    regf = f'{OUPPATH}/{virus}.{virus}.reg'\n",
    "    resf = f'{OUPPATH}/{virus}.{virus}.result'\n",
    "    \n",
    "    regtbl = pd.read_csv(regf, index_col=[0,1])\n",
    "    #agg_dict = {c: \"max\" for c in regtbl.columns[2:]}\n",
    "    #regtbl = regtbl.groupby(['pname_f','pname_r']).agg(agg_dict)\n",
    "\n",
    "    clstbl = pd.read_csv(clsf, index_col=[0,1])\n",
    "    #agg_dict = {c: \"max\" for c in clstbl.columns[2:]}\n",
    "    #clstbl = clstbl.groupby(['pname_f','pname_r']).agg(agg_dict)\n",
    "    clstbl = clstbl.reindex(regtbl.index)\n",
    "    \n",
    "    coverage = ((clstbl>.5).mean(axis=1) * 100).reset_index(name='coverage')\n",
    "    scores = (regtbl * (clstbl>.5)).replace(0, np.nan).mean(axis=1).reset_index(name='score')\n",
    "    res = coverage.merge(scores, on=['pname_f','pname_r'])\n",
    "    \n",
    "    res['target'] = res['coverage'] * res['score']\n",
    "    res.to_csv(resf)\n",
    "    \n",
    "    select = res.sort_values('target',ascending=False).iloc[:100]\n",
    "    priseqs = { s.id:str(s.seq) for s in SeqIO.parse(f'{PRIPATH}/{virus}_pre.fa','fasta') }\n",
    "    with open(f'{PRIPATH}/{virus}_target.fa', 'wt') as out:\n",
    "        allpns = set(select['pname_f']) | set(select['pname_r'])\n",
    "        for pname in allpns:\n",
    "            out.write(f'>{pname}\\n{priseqs[pname]}\\n')\n",
    "        for pname in priseqs:\n",
    "            if 'pub' in pname and pname not in allpns:\n",
    "                out.write(f'>{pname}\\n{priseqs[pname]}\\n')"
   ]
  },
  {
   "cell_type": "code",
   "execution_count": null,
   "metadata": {},
   "outputs": [],
   "source": [
    "virus = 'LASV'\n",
    "resf = f'{OUPPATH}/{virus}.{virus}.result'\n",
    "res = pd.read_csv(resf,index_col=0)\n",
    "select = res.sort_values('target',ascending=False).iloc[:100]\n",
    "priseqs = { s.id:str(s.seq) for s in SeqIO.parse(f'{PRIPATH}/{virus}_pre.fa','fasta') }\n",
    "with open(f'{PRIPATH}/{virus}_target.fa', 'wt') as out:\n",
    "    allpns = set(select['pname_f']) | set(select['pname_r'])\n",
    "    for pname in allpns:\n",
    "        out.write(f'>{pname}\\n{priseqs[pname]}\\n')\n",
    "    for pname in priseqs:\n",
    "        if 'pub' in pname and pname not in allpns:\n",
    "            out.write(f'>{pname}\\n{priseqs[pname]}\\n')"
   ]
  },
  {
   "cell_type": "code",
   "execution_count": null,
   "metadata": {
    "code_folding": []
   },
   "outputs": [],
   "source": [
    "pubs = {}\n",
    "fig, axes = plt.subplots(5, 5, figsize=(10, 10), sharex=True, sharey=True)\n",
    "for virus, ax in zip(allvns, axes.flatten()):\n",
    "    resf = f'{OUPPATH}/{virus}.{virus}.result'\n",
    "    res = pd.read_csv(resf,index_col=0)\n",
    "    covs = res['coverage']\n",
    "    scos = res['score']\n",
    "    res['target'] = np.sqrt(covs * scos)\n",
    "    \n",
    "    select = res.sort_values('target',ascending=False).iloc[:100]   \n",
    "    pub = res[res['pname_f'].apply(lambda x:'pub' in x) & res['pname_r'].apply(lambda x:'pub' in x)]\n",
    "    if pub.empty:\n",
    "        pub = pd.DataFrame([[0]*len(res.columns)], columns=res.columns)\n",
    "        pub['pname_f'] = f'{virus}_pub_1_f'\n",
    "        pub['pname_r'] = f'{virus}_pub_1_r'\n",
    "        pub['score'] = .5\n",
    "    pubs[virus] = pub\n",
    "    ax.scatter(covs, scos, s=1, alpha=.05, color='black')\n",
    "    ax.scatter(select['coverage'], select['score'], s=5, alpha=1, color='tab:orange', label='Selected')\n",
    "    ax.scatter(pub['coverage'], pub['score'], s=5, alpha=1, color='tab:red', label='Manual')\n",
    "    ax.set_ylim(.45, 1.2)\n",
    "    ax.text(3, 1.2, f'{virus}\\nn = {len(covs)}', fontsize=9, va='top')\n",
    "ax.legend(loc=(1.05,.6), handlelength=1)\n",
    "for ax in axes.flatten()[len(allvns):]:\n",
    "    fig.delaxes(ax)\n",
    "fig.subplots_adjust(wspace=.1,hspace=.1)\n",
    "fig.text(.5, .06, 'Coverage (%)', ha='center')\n",
    "fig.text(.06, .5, 'Mean score', va='center', rotation=90)\n",
    "fig.savefig(f'{OUTPATH}/figures/0827_bbp_target_v3.png', dpi=500, bbox_inches='tight')"
   ]
  },
  {
   "cell_type": "markdown",
   "metadata": {},
   "source": [
    "## Examine cross-reactivity"
   ]
  },
  {
   "cell_type": "code",
   "execution_count": null,
   "metadata": {
    "code_folding": []
   },
   "outputs": [],
   "source": [
    "for virus in ['LASV']:# allvns:\n",
    "    savef = f'{OUPPATH}/{virus}.cross.cls'\n",
    "    outtbl = pd.DataFrame()\n",
    "    for cross in tqdm(allvns, desc=virus):\n",
    "        if virus==cross:\n",
    "            continue\n",
    "        inpf = f'{INPPATH}/{virus}.{cross}.input'\n",
    "        chunk = pd.read_csv(inpf)\n",
    "        chunk['targets'] = chunk['targets'].apply(ast.literal_eval)\n",
    "\n",
    "        inps = chunk[inpcols].copy()\n",
    "        inps_feat = chunk[featcols]\n",
    "        inps_feat.columns = newcols\n",
    "        inps_seq = chunk[['pseq_f','tseq_f','pseq_r','tseq_r']]\n",
    "\n",
    "        seq_input = one_hot_encode_pbs_gap_parallel(inps_seq)\n",
    "        fea_input = scaler.transform(inps_feat)\n",
    "        labels = np.array([0]*len(inps))\n",
    "        dataset = PcrDataset(seq_input, fea_input, labels)\n",
    "        loader = DataLoader(dataset, batch_size=64, shuffle=False)\n",
    "\n",
    "        predict_cls = []\n",
    "        with torch.no_grad():\n",
    "            for seq_in, fea_in, lab in loader:\n",
    "                seq_in, fea_in, lab = seq_in.to(device).float(), fea_in.to(device).float(), lab.to(device).float()\n",
    "                out_cls = classifier(seq_in)\n",
    "                if len(seq_in)==1:\n",
    "                    predict_cls.append(np.array([out_cls.squeeze().detach().cpu().numpy()]))\n",
    "                else:\n",
    "                    predict_cls.append(out_cls.squeeze().detach().cpu().numpy())\n",
    "            predict_cls = np.concatenate(predict_cls)\n",
    "        inps.loc[:,'classifier'] = predict_cls\n",
    "\n",
    "        mlb = MultiLabelBinarizer()\n",
    "        onehot = mlb.fit_transform(inps['targets'])\n",
    "        target_cols = list(mlb.classes_)\n",
    "\n",
    "        targets_df = pd.DataFrame(onehot, columns=target_cols, index=inps.index)\n",
    "        targets_df = targets_df.mul(inps['classifier'], axis=0)\n",
    "        evaltbl = pd.concat([inps.drop(columns=['targets','classifier']), targets_df], axis=1)\n",
    "        agg_dict = {c: \"max\" for c in evaltbl.columns[2:]}\n",
    "        evaltbl = evaltbl.groupby(['pname_f','pname_r']).agg(agg_dict)\n",
    "        if outtbl.empty:\n",
    "            outtbl = evaltbl\n",
    "        else:\n",
    "            outtbl = outtbl.join(evaltbl, how='outer').fillna(0)\n",
    "    outtbl.round(2).to_csv(savef)"
   ]
  },
  {
   "cell_type": "code",
   "execution_count": null,
   "metadata": {
    "code_folding": []
   },
   "outputs": [],
   "source": [
    "for virus in ['LASV']: \n",
    "    inpf = f'{INPPATH}/{virus}.GRCH38_tx_sort.input'\n",
    "    savef = f'{OUPPATH}/{virus}.GRCH38_tx_sort.cls'\n",
    "    for i, chunk in tqdm(enumerate(pd.read_csv(inpf, chunksize=100000)), desc=virus):\n",
    "        chunk['targets'] = chunk['targets'].apply(ast.literal_eval)\n",
    "\n",
    "        inps = chunk[inpcols].copy()\n",
    "        inps_feat = chunk[featcols]\n",
    "        inps_feat.columns = newcols\n",
    "        inps_seq = chunk[['pseq_f','tseq_f','pseq_r','tseq_r']]\n",
    "\n",
    "        seq_input = one_hot_encode_pbs_gap_parallel(inps_seq)\n",
    "        fea_input = scaler.transform(inps_feat)\n",
    "        labels = np.array([0]*len(inps))\n",
    "        dataset = PcrDataset(seq_input, fea_input, labels)\n",
    "        loader = DataLoader(dataset, batch_size=64, shuffle=False)\n",
    "\n",
    "        predict_cls = []\n",
    "        with torch.no_grad():\n",
    "            for seq_in, fea_in, lab in loader:\n",
    "                seq_in, fea_in, lab = seq_in.to(device).float(), fea_in.to(device).float(), lab.to(device).float()\n",
    "                out_cls = classifier(seq_in)\n",
    "                if len(seq_in)==1:\n",
    "                    predict_cls.append(np.array([out_cls.squeeze().detach().cpu().numpy()]))\n",
    "                else:\n",
    "                    predict_cls.append(out_cls.squeeze().detach().cpu().numpy())\n",
    "            predict_cls = np.concatenate(predict_cls)\n",
    "        inps.loc[:,'classifier'] = predict_cls\n",
    "        \n",
    "        mlb = MultiLabelBinarizer()\n",
    "        onehot = mlb.fit_transform(inps['targets'])\n",
    "        target_cols = list(mlb.classes_)\n",
    "\n",
    "        targets_df = pd.DataFrame(onehot, columns=target_cols, index=inps.index)\n",
    "        targets_df = targets_df.mul(inps['classifier'], axis=0)\n",
    "        evaltbl = pd.concat([inps.drop(columns=['targets','classifier']), targets_df], axis=1)\n",
    "        agg_dict = {c: \"max\" for c in evaltbl.columns[2:]}\n",
    "        evaltbl = evaltbl.groupby(['pname_f','pname_r']).agg(agg_dict)\n",
    "        evaltbl.to_csv(savef, mode='a', header=(i==0), float_format=\"%.2f\")"
   ]
  },
  {
   "cell_type": "code",
   "execution_count": null,
   "metadata": {},
   "outputs": [],
   "source": [
    "allhuman = 77601\n",
    "allcross = 17623\n",
    "numselect = 100\n",
    "\n",
    "for virus in ['LASV']:\n",
    "    outf = f'{OUPPATH}/{virus}.final'\n",
    "    resf = f'{OUPPATH}/{virus}.{virus}.result'\n",
    "    res = pd.read_csv(resf,index_col=0)\n",
    "    \n",
    "    select = res.sort_values('target', ascending=False).iloc[:numselect]\n",
    "    pub = res[res['pname_f'].apply(lambda x:'pub' in x) & res['pname_r'].apply(lambda x:'pub' in x)]\n",
    "    select = pd.concat([select, pub]).drop_duplicates(subset=['pname_f','pname_r'])\n",
    "    select = select.set_index(['pname_f','pname_r']).sort_index()\n",
    "    if pub.empty:\n",
    "        select.loc[(f'{virus}_pub_1_f',f'{virus}_pub_1_r'),:] = 0\n",
    "    \n",
    "    crossf = f'{OUPPATH}/{virus}.cross.cls'\n",
    "    crosstbl = pd.read_csv(crossf)\n",
    "    crosstbl['cross'] = (crosstbl.iloc[:,2:]>.5).sum(axis=1)\n",
    "    \n",
    "    humanf = f'{OUPPATH}/{virus}.GRCH38_tx_sort.cls'\n",
    "    humantbl = pd.read_csv(humanf, on_bad_lines='skip')\n",
    "    humantbl['human'] = (humantbl.iloc[:,2:]>.5).sum(axis=1)\n",
    "    \n",
    "    for pair, row in select.iterrows():\n",
    "        ps = set(pair)\n",
    "        select.loc[pair,'cross'] = crosstbl.loc[crosstbl['pname_f'].isin(ps) \n",
    "                                                & crosstbl['pname_r'].isin(ps),'cross'].sum()/allcross*100\n",
    "        select.loc[pair,'human'] = humantbl.loc[humantbl['pname_f'].isin(ps) \n",
    "                                                & humantbl['pname_r'].isin(ps),'human'].sum()/allhuman*100\n",
    "    select['off-target'] = (select['cross']+100/allcross) + (select['human']+100/allhuman)\n",
    "    select.to_csv(outf)"
   ]
  },
  {
   "cell_type": "code",
   "execution_count": null,
   "metadata": {},
   "outputs": [],
   "source": [
    "fig, axes = plt.subplots(5, 5, figsize=(10, 10), sharex=True, sharey=True)\n",
    "for virus, ax in zip(allvns, axes.flatten()):\n",
    "    finf = f'{OUPPATH}/{virus}.final'\n",
    "    res = pd.read_csv(finf) \n",
    "    pub = res[res['pname_f'].apply(lambda x:'pub' in x) & res['pname_r'].apply(lambda x:'pub' in x)]\n",
    "    ax.scatter(res['target'], res['off-target'], s=5, alpha=1, color='tab:orange',label='selected')\n",
    "    ax.scatter(pub['target'], pub['off-target'], s=5, alpha=1, color='black',label='manual')\n",
    "    ax.text(40, 32, f'{virus}', fontsize=9)\n",
    "    \n",
    "ax.legend(loc=(1.05,.6), handlelength=1)\n",
    "for ax in axes.flatten()[len(allvns):]:\n",
    "    fig.delaxes(ax)\n",
    "fig.subplots_adjust(wspace=.1,hspace=.1)\n",
    "fig.text(.5, .06, 'Cross reactivity', ha='center')\n",
    "fig.text(.07, .5, 'Host reactivity', va='center', rotation=90)\n",
    "fig.savefig(f'{OUTPATH}/figures/0827_bbp_off_v2.png', dpi=500, bbox_inches='tight')"
   ]
  },
  {
   "cell_type": "code",
   "execution_count": null,
   "metadata": {},
   "outputs": [],
   "source": [
    "fig, axes = plt.subplots(5, 5, figsize=(10, 10), sharex=True, sharey=True)\n",
    "for virus, ax in zip(allvns, axes.flatten()):\n",
    "    finf = f'{OUPPATH}/{virus}.final'\n",
    "    res = pd.read_csv(finf) \n",
    "    pub = res[res['pname_f'].apply(lambda x:'pub' in x) & res['pname_r'].apply(lambda x:'pub' in x)]\n",
    "    ax.scatter(res['cross'], res['human'], s=5, alpha=1, color='tab:orange',label='selected')\n",
    "    ax.scatter(pub['cross'], pub['human'], s=5, alpha=1, color='black',label='manual')\n",
    "    ax.text(0, 1.5, f'{virus}', fontsize=9)\n",
    "    \n",
    "#ax.legend(loc=(1.05,.6), handlelength=1)\n",
    "for ax in axes.flatten()[len(allvns):]:\n",
    "    fig.delaxes(ax)\n",
    "fig.subplots_adjust(wspace=.1,hspace=.1)\n",
    "fig.text(.5, .07, 'Cross reactivity (%)', ha='center')\n",
    "fig.text(.07, .5, 'Host reactivity (%)', va='center', rotation=90)\n",
    "fig.savefig(f'{OUTPATH}/figures/0827_bbp_off_v2.png', dpi=500, bbox_inches='tight')"
   ]
  },
  {
   "cell_type": "code",
   "execution_count": null,
   "metadata": {},
   "outputs": [],
   "source": [
    "finals = {}\n",
    "for virus in allvns:\n",
    "    outf = f'{OUPPATH}/{virus}.final'\n",
    "    sumtbl = pd.read_csv(outf)\n",
    "    sumtbl['final'] = sumtbl['target'] / np.sqrt(sumtbl['off-target'])\n",
    "    if 'gmean' in sumtbl.columns:\n",
    "        sumtbl = sumtbl.drop(columns=['gmean'])\n",
    "    best = sumtbl.sort_values('final').iloc[-1]\n",
    "    pub = sumtbl[sumtbl['pname_f'].apply(lambda x:'pub' in x) & sumtbl['pname_r'].apply(lambda x:'pub' in x)]\n",
    "    pub = pub.sort_values('final').iloc[-1]\n",
    "    \n",
    "    best.index = [c + '_ai' for c in best.index]\n",
    "    pub.index = [c + '_pub' for c in pub.index]\n",
    "    \n",
    "    comb = pd.concat([best.drop(['pname_f_ai','pname_r_ai']), \n",
    "                      pub.drop(['pname_f_pub','pname_r_pub'])])\n",
    "    finals['%s\\n(n = %i)' % (virus, len(tnames[virus]))] = comb\n",
    "    \n",
    "final = pd.DataFrame(finals)\n",
    "final.T.astype(float).round(2)"
   ]
  },
  {
   "cell_type": "code",
   "execution_count": null,
   "metadata": {},
   "outputs": [],
   "source": [
    "final.T.astype(float).round(2).to_csv(f'{OUPPATH}/0905_assembled.csv')"
   ]
  },
  {
   "cell_type": "code",
   "execution_count": null,
   "metadata": {},
   "outputs": [],
   "source": []
  },
  {
   "cell_type": "code",
   "execution_count": null,
   "metadata": {},
   "outputs": [],
   "source": []
  },
  {
   "cell_type": "code",
   "execution_count": null,
   "metadata": {},
   "outputs": [],
   "source": []
  },
  {
   "cell_type": "code",
   "execution_count": null,
   "metadata": {},
   "outputs": [],
   "source": []
  }
 ],
 "metadata": {
  "kernelspec": {
   "display_name": "Python 3",
   "language": "python",
   "name": "python3"
  },
  "language_info": {
   "codemirror_mode": {
    "name": "ipython",
    "version": 3
   },
   "file_extension": ".py",
   "mimetype": "text/x-python",
   "name": "python",
   "nbconvert_exporter": "python",
   "pygments_lexer": "ipython3",
   "version": "3.10.16"
  },
  "toc": {
   "base_numbering": 1,
   "nav_menu": {},
   "number_sections": true,
   "sideBar": true,
   "skip_h1_title": false,
   "title_cell": "Table of Contents",
   "title_sidebar": "Contents",
   "toc_cell": false,
   "toc_position": {},
   "toc_section_display": true,
   "toc_window_display": false
  }
 },
 "nbformat": 4,
 "nbformat_minor": 2
}
