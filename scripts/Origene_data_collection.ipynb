{
 "cells": [
  {
   "cell_type": "code",
   "execution_count": null,
   "metadata": {},
   "outputs": [],
   "source": [
    "## Setting\n",
    "from selenium import webdriver\n",
    "from selenium.webdriver.chrome.service import Service\n",
    "from selenium.webdriver.chrome.options import Options\n",
    "from selenium.webdriver.common.by import By\n",
    "from bs4 import BeautifulSoup\n",
    "import time, csv, os\n",
    "\n",
    "chrome_binary = \"/home/jupyter/ADAPT_PCR_share/safe/tools/chrome_tmp/opt/google/chrome/google-chrome\"\n",
    "chromedriver_path = \"/home/jupyter/ADAPT_PCR_share/safe/tools/chrome_tmp/chromedriver-linux64/chromedriver\"\n",
    "BASE_URL = \"https://www.origene.com/catalog/gene-expression/qpcr-primer-pairs?species=124&p=\"\n",
    "OUTPUT_CSV = '/home/jupyter/ADAPT_PCR_share/safe/resources/origene_primers_0731.csv'\n",
    "VISITED_FILE = '/home/jupyter/ADAPT_PCR_share/safe/resources/visited_links.txt'"
   ]
  },
  {
   "cell_type": "code",
   "execution_count": null,
   "metadata": {},
   "outputs": [],
   "source": [
    "# Setting driver\n",
    "options = Options()\n",
    "options.binary_location = chrome_binary\n",
    "options.add_argument(\"--headless=new\")      \n",
    "options.add_argument(\"--no-sandbox\")\n",
    "options.add_argument(\"--disable-dev-shm-usage\")\n",
    "\n",
    "service = Service(chromedriver_path)\n",
    "driver = webdriver.Chrome(service=service, options=options)"
   ]
  },
  {
   "cell_type": "code",
   "execution_count": null,
   "metadata": {},
   "outputs": [],
   "source": [
    "visited = set()\n",
    "if os.path.exists(VISITED_FILE):\n",
    "    with open(VISITED_FILE, \"r\") as f:\n",
    "        visited = set(line.strip() for line in f)\n",
    "    print(f\"[INFO] {len(visited)} links are already processed (skip)\")\n",
    "    \n",
    "\n",
    "if not os.path.exists(OUTPUT_CSV):\n",
    "    with open(OUTPUT_CSV, \"w\", newline=\"\", encoding=\"utf-8\") as f:\n",
    "        writer = csv.writer(f)\n",
    "        writer.writerow([\"Gene\", \"NM\", \"Forward\", \"Reverse\", \"URL\"])\n",
    "\n",
    "!head -5 $OUTPUT_CSV"
   ]
  },
  {
   "cell_type": "code",
   "execution_count": null,
   "metadata": {},
   "outputs": [],
   "source": [
    "def scrape_detail_page(url):\n",
    "    driver.get(url)\n",
    "    time.sleep(1)  \n",
    "    soup = BeautifulSoup(driver.page_source, \"html.parser\")\n",
    "    \n",
    "    meta_title = soup.find(\"meta\", {\"name\": \"title\"})\n",
    "    if meta_title and meta_title.has_attr(\"content\"):\n",
    "        info = meta_title[\"content\"].split('|')[0].strip()\n",
    "    else:\n",
    "        return '', '', '', ''\n",
    "    gene_name = info.split('Human')[0].strip()\n",
    "    nm = info.split()[-1][1:-1]\n",
    "    \n",
    "    forward_td = soup.find(\"td\", {\"data-th\": \"Forward Sequence\"})\n",
    "    reverse_td = soup.find(\"td\", {\"data-th\": \"Reverse Sequence\"})\n",
    "    forward = forward_td.get_text(strip=True) if forward_td else \"\"\n",
    "    reverse = reverse_td.get_text(strip=True) if reverse_td else \"\"\n",
    "\n",
    "    return gene_name, nm, forward, reverse"
   ]
  },
  {
   "cell_type": "code",
   "execution_count": null,
   "metadata": {},
   "outputs": [],
   "source": [
    "page_num = 1\n",
    "visited = set()\n",
    "\n",
    "while True:\n",
    "    page_url = BASE_URL + str(page_num)\n",
    "    print(f\"[*] page {page_num} processing...\")\n",
    "    driver.get(page_url)\n",
    "    time.sleep(2)\n",
    "\n",
    "    soup = BeautifulSoup(driver.page_source, \"html.parser\")\n",
    "    links = [a['href'] for a in soup.select(\".product-item a[href]\")]\n",
    "    product_links = set([l for l in links if not l.endswith('citations')])\n",
    "\n",
    "    for link in product_links:\n",
    "        if not link.startswith(\"http\"):\n",
    "            link = \"https://www.origene.com\" + link\n",
    "        if link in visited:\n",
    "            continue\n",
    "\n",
    "        try:\n",
    "            gene, nm, forward, reverse = scrape_detail_page(link)\n",
    "            with open(OUTPUT_CSV, \"a\", newline=\"\", encoding=\"utf-8\") as f:\n",
    "                writer = csv.writer(f)\n",
    "                writer.writerow([gene, nm, forward, reverse, link])\n",
    "\n",
    "            visited.add(link)\n",
    "            with open(VISITED_FILE, \"a\") as f:\n",
    "                f.write(link + \"\\n\")\n",
    "\n",
    "            print(f\"[+] Saved: {gene}\")\n",
    "\n",
    "        except Exception as e:\n",
    "            print(f\"[!] Error parsing {link}: {e}\")\n",
    "            continue        \n",
    "\n",
    "    page_num += 1"
   ]
  },
  {
   "cell_type": "code",
   "execution_count": null,
   "metadata": {},
   "outputs": [],
   "source": []
  },
  {
   "cell_type": "code",
   "execution_count": null,
   "metadata": {},
   "outputs": [],
   "source": []
  },
  {
   "cell_type": "code",
   "execution_count": null,
   "metadata": {},
   "outputs": [],
   "source": []
  },
  {
   "cell_type": "code",
   "execution_count": null,
   "metadata": {},
   "outputs": [],
   "source": []
  }
 ],
 "metadata": {
  "kernelspec": {
   "display_name": "Python 3",
   "language": "python",
   "name": "python3"
  },
  "language_info": {
   "codemirror_mode": {
    "name": "ipython",
    "version": 3
   },
   "file_extension": ".py",
   "mimetype": "text/x-python",
   "name": "python",
   "nbconvert_exporter": "python",
   "pygments_lexer": "ipython3",
   "version": "3.10.12"
  },
  "toc": {
   "base_numbering": 1,
   "nav_menu": {},
   "number_sections": true,
   "sideBar": true,
   "skip_h1_title": false,
   "title_cell": "Table of Contents",
   "title_sidebar": "Contents",
   "toc_cell": false,
   "toc_position": {},
   "toc_section_display": true,
   "toc_window_display": false
  }
 },
 "nbformat": 4,
 "nbformat_minor": 2
}
